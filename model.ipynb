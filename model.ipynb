{
 "cells": [
  {
   "cell_type": "markdown",
   "id": "017568fc-293c-4c4d-91f6-534066b4fe99",
   "metadata": {},
   "source": [
    "# Task"
   ]
  },
  {
   "cell_type": "markdown",
   "id": "8a8ef0fb-4e7d-40f3-9e11-8807bdfa69f0",
   "metadata": {},
   "source": [
    "Predict the rating a user will give a product."
   ]
  },
  {
   "cell_type": "markdown",
   "id": "2ce21a02-3fa7-489f-aa34-8ec46c2e4621",
   "metadata": {},
   "source": [
    "# Importing Libraries & Data"
   ]
  },
  {
   "cell_type": "code",
   "execution_count": 9,
   "id": "68dbe09c-134f-489a-985a-f56272bff974",
   "metadata": {},
   "outputs": [],
   "source": [
    "import pandas as pd\n",
    "import numpy as np\n",
    "import matplotlib.pyplot as plt \n",
    "import seaborn as sns\n",
    "from collections import defaultdict\n",
    "from tqdm import tqdm"
   ]
  },
  {
   "cell_type": "code",
   "execution_count": 10,
   "id": "f1af883b-3bd3-44bf-98e4-81209c2ded6c",
   "metadata": {},
   "outputs": [
    {
     "name": "stderr",
     "output_type": "stream",
     "text": [
      "/var/folders/h9/4qqztth57ws20mrrtmbdg_500000gp/T/ipykernel_22597/2014431244.py:3: DtypeWarning: Columns (1) have mixed types. Specify dtype option on import or set low_memory=False.\n",
      "  reviews = pd.read_csv(\"archive/reviews_0-250.csv\",index_col=0) # only using first 100_000 rows of reviews\n"
     ]
    }
   ],
   "source": [
    "# Importing Data\n",
    "products = pd.read_csv(\"archive/product_info.csv\")\n",
    "reviews = pd.read_csv(\"archive/reviews_0-250.csv\",index_col=0) # only using first 100_000 rows of reviews"
   ]
  },
  {
   "cell_type": "code",
   "execution_count": 11,
   "id": "b54bade0-8362-4f90-9c30-7d811a1787e4",
   "metadata": {},
   "outputs": [
    {
     "name": "stdout",
     "output_type": "stream",
     "text": [
      "(8494, 27)\n",
      "(602130, 18)\n"
     ]
    }
   ],
   "source": [
    "print(products.shape)\n",
    "print(reviews.shape)"
   ]
  },
  {
   "cell_type": "code",
   "execution_count": 12,
   "id": "8e9387c4-de5b-46ad-918c-abb6fc8d6d06",
   "metadata": {},
   "outputs": [
    {
     "data": {
      "text/plain": [
       "Index(['author_id', 'rating', 'is_recommended', 'helpfulness',\n",
       "       'total_feedback_count', 'total_neg_feedback_count',\n",
       "       'total_pos_feedback_count', 'submission_time', 'review_text',\n",
       "       'review_title', 'skin_tone', 'eye_color', 'skin_type', 'hair_color',\n",
       "       'product_id', 'product_name', 'brand_name', 'price_usd'],\n",
       "      dtype='object')"
      ]
     },
     "execution_count": 12,
     "metadata": {},
     "output_type": "execute_result"
    }
   ],
   "source": [
    "reviews.columns"
   ]
  },
  {
   "cell_type": "markdown",
   "id": "2ac7ce2a-1858-4ee5-b064-f1ec1a3068ca",
   "metadata": {},
   "source": [
    "# Exploratory Data Analysis"
   ]
  },
  {
   "cell_type": "code",
   "execution_count": 13,
   "id": "cabaf08a-92de-43d1-8040-dd2a279663c6",
   "metadata": {},
   "outputs": [],
   "source": [
    "# Querying for necessary columns\n",
    "products = products[['product_id','brand_id','loves_count','rating','reviews','price_usd','primary_category']]\n",
    "reviews = reviews[['author_id','product_id','rating','is_recommended','helpfulness','submission_time','review_text','review_title']]"
   ]
  },
  {
   "cell_type": "code",
   "execution_count": 14,
   "id": "0d086fc8-a406-47b5-9f97-03ff8722e504",
   "metadata": {},
   "outputs": [],
   "source": [
    "# Percentages of null data "
   ]
  },
  {
   "cell_type": "code",
   "execution_count": 15,
   "id": "bf7015d3-678e-4b91-bbbf-7e93085a51c6",
   "metadata": {},
   "outputs": [
    {
     "data": {
      "text/plain": [
       "author_id          0.000000\n",
       "product_id         0.000000\n",
       "rating             0.000000\n",
       "is_recommended     0.195117\n",
       "helpfulness        0.551097\n",
       "submission_time    0.000000\n",
       "review_text        0.001659\n",
       "review_title       0.277367\n",
       "dtype: float64"
      ]
     },
     "execution_count": 15,
     "metadata": {},
     "output_type": "execute_result"
    }
   ],
   "source": [
    "reviews.isnull().sum() / reviews.shape[0]"
   ]
  },
  {
   "cell_type": "code",
   "execution_count": 20,
   "id": "9089054c-77ff-4122-a538-0ae93e6a9f55",
   "metadata": {},
   "outputs": [
    {
     "data": {
      "text/plain": [
       "product_id          0.000000\n",
       "brand_id            0.000000\n",
       "loves_count         0.000000\n",
       "rating              0.032729\n",
       "reviews             0.032729\n",
       "price_usd           0.000000\n",
       "primary_category    0.000000\n",
       "dtype: float64"
      ]
     },
     "execution_count": 20,
     "metadata": {},
     "output_type": "execute_result"
    }
   ],
   "source": [
    "products.isnull().sum() / products.shape[0]"
   ]
  },
  {
   "cell_type": "code",
   "execution_count": 21,
   "id": "03678f58-005b-48c9-b679-b76d95bf45cf",
   "metadata": {},
   "outputs": [],
   "source": [
    "# Distributions of key features"
   ]
  },
  {
   "cell_type": "code",
   "execution_count": 22,
   "id": "7c0bad71-0f65-4cfb-b8e2-23d96d34a410",
   "metadata": {},
   "outputs": [
    {
     "data": {
      "text/plain": [
       "5.0000    256\n",
       "4.0000    174\n",
       "4.5000     82\n",
       "4.3333     68\n",
       "3.0000     66\n",
       "         ... \n",
       "4.6954      1\n",
       "4.2841      1\n",
       "4.3613      1\n",
       "4.6878      1\n",
       "4.6367      1\n",
       "Name: rating, Length: 4394, dtype: int64"
      ]
     },
     "execution_count": 22,
     "metadata": {},
     "output_type": "execute_result"
    }
   ],
   "source": [
    "products['rating'].value_counts() "
   ]
  },
  {
   "cell_type": "code",
   "execution_count": 27,
   "id": "1b5cf053-1eec-4060-b8fa-3aea0d237b7f",
   "metadata": {},
   "outputs": [
    {
     "data": {
      "text/plain": [
       "Text(0.5, 1.0, 'Histogram of Ratings')"
      ]
     },
     "execution_count": 27,
     "metadata": {},
     "output_type": "execute_result"
    },
    {
     "data": {
      "image/png": "[encoded data removed]",
      "text/plain": [
       "<Figure size 432x288 with 1 Axes>"
      ]
     },
     "metadata": {
      "needs_background": "light"
     },
     "output_type": "display_data"
    }
   ],
   "source": [
    "# Plotting the histogram\n",
    "plt.hist(products['rating'], edgecolor='black')\n",
    "\n",
    "# Adding labels and title\n",
    "plt.xlabel('Rating')\n",
    "plt.ylabel('Frequency')\n",
    "plt.title('Histogram of Ratings')"
   ]
  },
  {
   "cell_type": "markdown",
   "id": "272dcdae-d6a5-4ae6-a493-84f9821c69c9",
   "metadata": {},
   "source": [
    "Ratings are skewed to being more positive"
   ]
  },
  {
   "cell_type": "markdown",
   "id": "41bcb8e9-6494-433b-a7b7-64b04d000aca",
   "metadata": {},
   "source": [
    "# Baseline Models"
   ]
  },
  {
   "cell_type": "markdown",
   "id": "b84ab892-5fce-43c2-b717-72e332cbc9b6",
   "metadata": {},
   "source": [
    "A simple model we can implement is to predict that a user will give a product its already average rating."
   ]
  },
  {
   "cell_type": "code",
   "execution_count": 28,
   "id": "83605650-9cad-487e-b5c5-170b6dd8abb8",
   "metadata": {},
   "outputs": [
    {
     "data": {
      "text/plain": [
       "4.194512889483925"
      ]
     },
     "execution_count": 28,
     "metadata": {},
     "output_type": "execute_result"
    }
   ],
   "source": [
    "itemAvg = products.set_index('product_id')['rating'].to_dict()\n",
    "globalAvg = products['rating'].mean()\n",
    "globalAvg"
   ]
  },
  {
   "cell_type": "code",
   "execution_count": 29,
   "id": "6151cc82-aa74-48f5-9790-c02a3450d61c",
   "metadata": {},
   "outputs": [],
   "source": [
    "def avgRating(product_id):\n",
    "    if product_id not in itemAvg: # return globalAvg if product has not been seen before\n",
    "        return [globalAvg]\n",
    "    return [itemAvg[product_id]]"
   ]
  },
  {
   "cell_type": "code",
   "execution_count": 30,
   "id": "655e3426-1381-4345-8438-d5db1428de72",
   "metadata": {},
   "outputs": [],
   "source": [
    "# Predicting ratings\n",
    "y = np.array(reviews.rating)\n",
    "y_pred = reviews.product_id.apply(avgRating).to_list()"
   ]
  },
  {
   "cell_type": "code",
   "execution_count": 31,
   "id": "06483fb1-8107-4983-aec3-e37b59f43c77",
   "metadata": {},
   "outputs": [
    {
     "name": "stdout",
     "output_type": "stream",
     "text": [
      "MSE:1.258782907660306\n",
      "RMSE:1.121954949033296\n"
     ]
    }
   ],
   "source": [
    "# Model Evaluation\n",
    "from sklearn.metrics import mean_squared_error\n",
    "\n",
    "mse = mean_squared_error(y, y_pred)\n",
    "rmse = np.sqrt(mse)\n",
    "print(f'MSE:{mse}')\n",
    "print(f'RMSE:{rmse}') "
   ]
  },
  {
   "cell_type": "markdown",
   "id": "2f6f17c6-af81-4bad-a636-9434dc03366e",
   "metadata": {},
   "source": [
    "This model's predictions are off by about 1.12. Since rating go from a scale from 1 - 5 this model performs pretty bad being off by 1.12 is pretty bad."
   ]
  },
  {
   "cell_type": "markdown",
   "id": "75c9581c-c4a5-4b99-9f89-db8b9ca1b4c4",
   "metadata": {},
   "source": [
    "Another model we can exlore is to determine the deviations each user has in their personal ratings and the deviations each item has compared to the global averages. "
   ]
  },
  {
   "cell_type": "code",
   "execution_count": 32,
   "id": "02d75c14-58e7-4521-8f91-a0130c32737e",
   "metadata": {},
   "outputs": [],
   "source": [
    "# Create training and test set for reviews \n",
    "from sklearn.model_selection import train_test_split\n",
    "\n",
    "train_set, test_set = train_test_split(reviews, test_size=0.2, random_state=42)"
   ]
  },
  {
   "cell_type": "code",
   "execution_count": 33,
   "id": "fa237d99-8b01-4a57-983b-071c83cf17c7",
   "metadata": {},
   "outputs": [],
   "source": [
    "# Splitting data and maintaining distribution of ratings in training and test set\n",
    "from sklearn.model_selection import StratifiedShuffleSplit\n",
    "\n",
    "split = StratifiedShuffleSplit(n_splits=1, test_size=0.2, random_state=42) \n",
    "\n",
    "for train_index, test_index in split.split(reviews, reviews[\"rating\"]):\n",
    "        strat_train_set = reviews.loc[train_index]\n",
    "        strat_test_set = reviews.loc[test_index]"
   ]
  },
  {
   "cell_type": "code",
   "execution_count": 34,
   "id": "75f1ef43-9f25-465a-8692-d65cd006bf76",
   "metadata": {},
   "outputs": [
    {
     "data": {
      "text/plain": [
       "5    0.646040\n",
       "4    0.177629\n",
       "3    0.073104\n",
       "1    0.054644\n",
       "2    0.048583\n",
       "Name: rating, dtype: float64"
      ]
     },
     "execution_count": 34,
     "metadata": {},
     "output_type": "execute_result"
    }
   ],
   "source": [
    "reviews.rating.value_counts() / len(reviews)"
   ]
  },
  {
   "cell_type": "code",
   "execution_count": 35,
   "id": "4dd3cab6-27af-4525-9ca0-c201f0b6d96a",
   "metadata": {},
   "outputs": [
    {
     "data": {
      "text/plain": [
       "5    0.646040\n",
       "4    0.177630\n",
       "3    0.073105\n",
       "1    0.054644\n",
       "2    0.048582\n",
       "Name: rating, dtype: float64"
      ]
     },
     "execution_count": 35,
     "metadata": {},
     "output_type": "execute_result"
    }
   ],
   "source": [
    "strat_train_set.rating.value_counts() / len(strat_train_set)"
   ]
  },
  {
   "cell_type": "code",
   "execution_count": 36,
   "id": "7628ad96-fab7-44fe-8111-06920fbfaa1c",
   "metadata": {},
   "outputs": [],
   "source": [
    "# Creating Model"
   ]
  },
  {
   "cell_type": "code",
   "execution_count": 37,
   "id": "30137f79-3a41-4697-a9fa-6810ff32ee7e",
   "metadata": {},
   "outputs": [],
   "source": [
    "# Functions for the model \n",
    "\n",
    "# Create feature vector\n",
    "def features(datum, alpha, betaU, betaI):\n",
    "    user = datum.author_id\n",
    "    item = datum.product_id\n",
    "    \n",
    "    # logic for users or items not seen in the training set\n",
    "    if user in betaU:\n",
    "        bu = betaU[user]\n",
    "    else:\n",
    "        bu = 0\n",
    "        \n",
    "    if item in betaI:\n",
    "        bi = betaI[item]\n",
    "    else:\n",
    "        bi = 0\n",
    "        \n",
    "    return [alpha, bu, bi]\n",
    "\n",
    "def predict_rating(datum):\n",
    "    a = datum[0]\n",
    "    bu = datum[1]\n",
    "    bi = datum[2]\n",
    "    return a + bu + bi"
   ]
  },
  {
   "cell_type": "code",
   "execution_count": 45,
   "id": "b3ffc2fe-c2dc-4836-a9d9-ecd835959606",
   "metadata": {},
   "outputs": [
    {
     "name": "stdout",
     "output_type": "stream",
     "text": [
      "4.194512889483925\n"
     ]
    }
   ],
   "source": [
    "ratingsPerUser = strat_train_set.groupby('author_id')['rating'].count().to_dict()\n",
    "ratingsPerItem = strat_train_set.groupby('product_id')['rating'].count().to_dict()\n",
    "\n",
    "userAvg = strat_train_set.groupby('author_id')['rating'].mean().to_dict()\n",
    "products = products.dropna(subset=['rating'])\n",
    "itemAvg = products.set_index('product_id')['rating'].to_dict()\n",
    "ratingMean = sum(itemAvg.values()) / len(itemAvg)\n",
    "ratingMean # based on avg product reviews"
   ]
  },
  {
   "cell_type": "code",
   "execution_count": 47,
   "id": "7b02430a",
   "metadata": {},
   "outputs": [],
   "source": [
    "ratingDict = {}\n",
    "for index, review in strat_train_set.iterrows():\n",
    "    user_id = review['author_id']\n",
    "    item_id = review['product_id']\n",
    "    rating = float(review['rating'])\n",
    "\n",
    "    ratingDict[(user_id, item_id)] = rating"
   ]
  },
  {
   "cell_type": "code",
   "execution_count": 48,
   "id": "f21f1a1b",
   "metadata": {},
   "outputs": [
    {
     "data": {
      "text/plain": [
       "4.304643616219344"
      ]
     },
     "execution_count": 48,
     "metadata": {},
     "output_type": "execute_result"
    }
   ],
   "source": [
    "from collections import defaultdict\n",
    "\n",
    "usersPerItem = defaultdict(set)\n",
    "itemsPerUser = defaultdict(set)\n",
    "reviewsPerUser = defaultdict(list)\n",
    "\n",
    "for index, review in strat_train_set.iterrows():\n",
    "    user_id = review['author_id']\n",
    "    item_id = review['product_id']\n",
    "    rating = float(review['rating'])\n",
    "\n",
    "    usersPerItem[item_id].add(user_id)\n",
    "    itemsPerUser[user_id].add(item_id)\n",
    "\n",
    "    reviewsPerUser[user_id].append(review)\n",
    "    \n",
    "userReviewAverages = {}\n",
    "itemReviewAverages = {}\n",
    "\n",
    "for u in itemsPerUser:\n",
    "    rs = [ratingDict[(u,i)] for i in itemsPerUser[u]]\n",
    "    userReviewAverages[u] = sum(rs) / len(rs)\n",
    "    \n",
    "for i in usersPerItem:\n",
    "    rs = [ratingDict[(u,i)] for u in usersPerItem[i]]\n",
    "    itemReviewAverages[i] = sum(rs) / len(rs)\n",
    "    \n",
    "ratingMean = sum(itemReviewAverages.values())/len(itemReviewAverages)\n",
    "ratingMean # based on reviews"
   ]
  },
  {
   "cell_type": "code",
   "execution_count": 23,
   "id": "161d034e-a985-4b78-9c18-b15877038954",
   "metadata": {},
   "outputs": [],
   "source": [
    "MSEs = defaultdict(list)"
   ]
  },
  {
   "cell_type": "code",
   "execution_count": 24,
   "id": "b6c1162f-fbdf-4a1d-8b87-231a4174e0a9",
   "metadata": {},
   "outputs": [
    {
     "name": "stderr",
     "output_type": "stream",
     "text": [
      "481704it [00:30, 16036.96it/s]\n"
     ]
    },
    {
     "name": "stdout",
     "output_type": "stream",
     "text": [
      "Iteration 1, MSE: 0.2869848224840688, MSE Difference: 0.2869848224840688\n"
     ]
    }
   ],
   "source": [
    "# Initializing values \n",
    "\n",
    "alpha = globalAvg\n",
    "betaU = {}\n",
    "betaI = {}\n",
    "\n",
    "for u in userAvg:\n",
    "    betaU[u] = userAvg[u] - alpha\n",
    "for i in itemAvg:\n",
    "    betaI[i] = itemAvg[i] - alpha\n",
    "\n",
    "# Opitmization (Gradient Descent) \n",
    "\n",
    "lam = 0 # can change to increase/descrease error  \n",
    "\n",
    "prev_mse = 0\n",
    "iteration = 1\n",
    "\n",
    "# Training sets\n",
    "y = np.array(strat_train_set.rating)\n",
    "\n",
    "for i in range(1):\n",
    "    alphas = []\n",
    "    betaUs = defaultdict(list)\n",
    "    betaIs = defaultdict(list)\n",
    "    \n",
    "    for index, row in tqdm(strat_train_set.iterrows()):\n",
    "        user = row.author_id\n",
    "        item = row.product_id\n",
    "        rating = row.rating\n",
    "        bu = betaU[user]\n",
    "        bi = betaI[item]\n",
    "\n",
    "        alphas.append(rating - (bu + bi))\n",
    "        betaUs[user].append(rating - (alpha + bi))\n",
    "        betaIs[item].append(rating - (alpha + bu))\n",
    "    \n",
    "    alpha = sum(alphas) / len(strat_train_set)\n",
    "    \n",
    "    for u in betaUs:\n",
    "        betaU[u] = sum(betaUs[u]) / (lam + ratingsPerUser[u])\n",
    "\n",
    "    for i in betaIs:\n",
    "        betaI[i] = sum(betaIs[i]) / (lam + ratingsPerItem[i])\n",
    "\n",
    "    # Caclculate MSE \n",
    "    X = [features(row, alpha, betaU, betaI) for index,row in strat_train_set.iterrows()]\n",
    "    y_pred = [predict_rating(x) for x in X]\n",
    "    trainMse = mean_squared_error(y, y_pred)\n",
    "    \n",
    "    print(f\"Iteration {iteration}, MSE: {trainMse}, MSE Difference: {abs(prev_mse-trainMse)}\")\n",
    "    if abs(trainMse - prev_mse) < 0.1 or (prev_mse < trainMse and prev_mse != 0): break\n",
    "    \n",
    "#    MSEs[lam].append((trainMse, iteration))\n",
    "    iteration += 1\n",
    "    prev_mse = trainMse"
   ]
  },
  {
   "cell_type": "code",
   "execution_count": 25,
   "id": "b71b9943-f0c8-462e-8c20-218d5a77dc78",
   "metadata": {},
   "outputs": [],
   "source": [
    "# Keeping track of beset lambdas \n",
    "MSEs = {0:(1,0.2869475500189116), 0.5:(1,0.37123573326746806),0.7:(1,0.417800212704393),\n",
    "        1.1:(1,0.5051117828232283), 1.2:(1,0.5250825093376316), 1.3:(1,0.5442690897035047),\n",
    "        1.5:(1,0.5803521882037794), 1.7:(1,0.6135531708458034)}"
   ]
  },
  {
   "cell_type": "code",
   "execution_count": 26,
   "id": "0934c21d-2cc4-4cc5-88c8-a0375c5cbaba",
   "metadata": {},
   "outputs": [],
   "source": [
    "# Model Evaluation"
   ]
  },
  {
   "cell_type": "code",
   "execution_count": 27,
   "id": "22646e15-2d54-4dd9-91c4-5c4aa4acd84e",
   "metadata": {},
   "outputs": [
    {
     "name": "stdout",
     "output_type": "stream",
     "text": [
      "Test MSE: 1.206129555415626\n",
      "Test RMSE: 1.0982392978834923\n"
     ]
    }
   ],
   "source": [
    "X_test = [features(row, alpha, betaU, betaI) for index,row in strat_test_set.iterrows()]\n",
    "y_pred = [predict_rating(x) for x in X_test]\n",
    "y = np.array(strat_test_set.rating)\n",
    "\n",
    "testMse = mean_squared_error(y, y_pred)\n",
    "testRmse = np.sqrt(testMse)\n",
    "print(f'Test MSE: {testMse}')\n",
    "print(f'Test RMSE: {testRmse}')"
   ]
  },
  {
   "cell_type": "code",
   "execution_count": 28,
   "id": "f231973f-d333-46c7-821e-df4a4ab920ef",
   "metadata": {},
   "outputs": [],
   "source": [
    "# NEW"
   ]
  },
  {
   "cell_type": "code",
   "execution_count": 45,
   "id": "1df8c790",
   "metadata": {},
   "outputs": [],
   "source": [
    "from collections import defaultdict\n",
    "\n",
    "usersPerItem = defaultdict(set)\n",
    "itemsPerUser = defaultdict(set)\n",
    "reviewsPerUser = defaultdict(list)\n",
    "\n",
    "for index, review in strat_train_set.iterrows():\n",
    "    user_id = review['author_id']\n",
    "    item_id = review['product_id']\n",
    "    rating = float(review['rating'])\n",
    "\n",
    "    usersPerItem[item_id].add(user_id)\n",
    "    itemsPerUser[user_id].add(item_id)\n",
    "\n",
    "    reviewsPerUser[user_id].append(review)"
   ]
  },
  {
   "cell_type": "code",
   "execution_count": 50,
   "id": "1c694de3",
   "metadata": {},
   "outputs": [
    {
     "data": {
      "text/plain": [
       "[('5980432900', 'P410400', 5),\n",
       " ('2504135390', 'P429515', 2),\n",
       " ('9090168081', 'P122900', 4),\n",
       " ('5210955363', 'P409800', 5),\n",
       " ('2104874833', 'P394639', 4)]"
      ]
     },
     "execution_count": 50,
     "metadata": {},
     "output_type": "execute_result"
    }
   ],
   "source": [
    "y = []\n",
    "for index, row in strat_test_set.iterrows():\n",
    "    y.append((row['author_id'], row['product_id'], row['rating'] ))\n",
    "y[0:5]"
   ]
  },
  {
   "cell_type": "markdown",
   "id": "bfc25dda",
   "metadata": {},
   "source": [
    "## Jaccard Similarity Rating Prediction"
   ]
  },
  {
   "cell_type": "code",
   "execution_count": 49,
   "id": "6340a83d",
   "metadata": {},
   "outputs": [],
   "source": [
    "def Jaccard(s1, s2):\n",
    "    numer = len(s1.intersection(s2))\n",
    "    denom = len(s1.union(s2))\n",
    "    if denom > 0:\n",
    "        return numer/denom\n",
    "    return 0"
   ]
  },
  {
   "cell_type": "code",
   "execution_count": 66,
   "id": "7c1ae144",
   "metadata": {},
   "outputs": [],
   "source": [
    "def predictRating1(user,item):\n",
    "    if item not in itemAvg:\n",
    "        return ratingMean\n",
    "    ratings = [] \n",
    "    sims = []\n",
    "    for d in reviewsPerUser[user]:\n",
    "        j = d['product_id']\n",
    "        if j == item: continue  \n",
    "        ratings.append(d['rating'] - itemAvg[j])\n",
    "        sims.append(Jaccard(usersPerItem[item],usersPerItem[j]))\n",
    "    if (sum(sims) > 0):\n",
    "        weightedRatings = [(x*y) for x,y in zip(ratings,sims )]\n",
    "        return itemAvg[item] + (sum(weightedRatings) / sum(sims))\n",
    "    else:\n",
    "        return itemAvg[item] "
   ]
  },
  {
   "cell_type": "code",
   "execution_count": 67,
   "id": "e03b0154",
   "metadata": {},
   "outputs": [],
   "source": [
    "# using jaccard similarity \n",
    "predictions = []\n",
    "for (user_id,item_id,_)  in y:\n",
    "    prediction = predictRating1(user_id, item_id)\n",
    "    if (prediction > 5):\n",
    "        prediction = 5\n",
    "    predictions.append(prediction) \n",
    "\n",
    "\n"
   ]
  },
  {
   "cell_type": "code",
   "execution_count": 68,
   "id": "d73c424a",
   "metadata": {},
   "outputs": [],
   "source": [
    "def MSE(predictions,y):\n",
    "    differences = [(x-y[2])**2 for x,y in zip(predictions,y)]\n",
    "    return sum(differences) / len(differences)"
   ]
  },
  {
   "cell_type": "code",
   "execution_count": 69,
   "id": "c4ca23dc",
   "metadata": {},
   "outputs": [
    {
     "name": "stdout",
     "output_type": "stream",
     "text": [
      "Jaccard Sim MSE: 1.0595104086348808\n",
      "Jaccard Sim RMSE: 1.0293252200518943\n"
     ]
    }
   ],
   "source": [
    "mse = MSE(predictions, y)\n",
    "rmse = np.sqrt(mse)\n",
    "print(f'Jaccard Sim MSE: {mse}')\n",
    "print(f'Jaccard Sim RMSE: {rmse}')"
   ]
  },
  {
   "cell_type": "markdown",
   "id": "c22c33d4",
   "metadata": {},
   "source": [
    "## Cosine Similarity Rating Prediction"
   ]
  },
  {
   "cell_type": "code",
   "execution_count": 64,
   "id": "9e822c17",
   "metadata": {},
   "outputs": [],
   "source": [
    "import math \n",
    "def Cosine(i1, i2):\n",
    "    # Between two items\n",
    "    inter = usersPerItem[i1].intersection(usersPerItem[i2])\n",
    "    numer = 0\n",
    "    denom1 = 0\n",
    "    denom2 = 0\n",
    "    for u in inter:\n",
    "        #print(ratingDict[(u,i1)])\n",
    "        numer += ratingDict[(u,i1)]*ratingDict[(u,i2)]\n",
    "    for u in usersPerItem[i1]:\n",
    "        denom1 += ratingDict[(u,i1)]**2\n",
    "    for u in usersPerItem[i2]:\n",
    "        denom2 += ratingDict[(u,i2)]**2\n",
    "    denom = math.sqrt(denom1) * math.sqrt(denom2)\n",
    "    if denom == 0: return 0\n",
    "    return numer / denom"
   ]
  },
  {
   "cell_type": "code",
   "execution_count": 60,
   "id": "abe01ac1",
   "metadata": {},
   "outputs": [],
   "source": [
    "def predictRating2(user,item):\n",
    "    if item not in itemAvg:\n",
    "        return ratingMean\n",
    "    ratings = [] \n",
    "    sims = []\n",
    "    for d in reviewsPerUser[user]:\n",
    "        j = d['product_id']\n",
    "        if j == item: continue  \n",
    "        ratings.append(d['rating'] - itemAvg[j])\n",
    "        sims.append(Cosine(item,j))\n",
    "    if (sum(sims) > 0):\n",
    "        weightedRatings = [(x*y) for x,y in zip(ratings,sims )]\n",
    "        return itemAvg[item] + (sum(weightedRatings) / sum(sims))\n",
    "    else:\n",
    "        return itemAvg[item] "
   ]
  },
  {
   "cell_type": "code",
   "execution_count": 61,
   "id": "aaeb151e",
   "metadata": {},
   "outputs": [],
   "source": [
    "# using cosine similarity \n",
    "predictions = []\n",
    "for (user_id,item_id,_)  in y:\n",
    "    prediction = predictRating2(user_id, item_id)\n",
    "    if (prediction > 5):\n",
    "        prediction = 5\n",
    "    predictions.append(prediction) \n",
    "\n"
   ]
  },
  {
   "cell_type": "code",
   "execution_count": 63,
   "id": "b46993b4",
   "metadata": {},
   "outputs": [
    {
     "name": "stdout",
     "output_type": "stream",
     "text": [
      "Cosine Sim MSE: 1.0604914054276369\n",
      "Cosine Sim RMSE: 1.0298016340187255\n"
     ]
    }
   ],
   "source": [
    "mse = MSE(predictions, y)\n",
    "rmse = np.sqrt(mse)\n",
    "print(f'Cosine Sim MSE: {mse}')\n",
    "print(f'Cosine Sim RMSE: {rmse}')"
   ]
  },
  {
   "cell_type": "markdown",
   "id": "4299ef9a",
   "metadata": {},
   "source": [
    "## Pearsons Similarity Rating Prediction"
   ]
  },
  {
   "cell_type": "code",
   "execution_count": 70,
   "id": "515d51fd",
   "metadata": {},
   "outputs": [],
   "source": [
    "def Pearsons(i1,i2):\n",
    "    inter = usersPerItem[i1].intersection(usersPerItem[i2])\n",
    "    \n",
    "    ratings_s1 = [ratingDict[(u, i1)] for u in inter]\n",
    "    ratings_s2 = [ratingDict[(u, i2)] for u in inter]\n",
    "    \n",
    "    smaller_len = len(inter)\n",
    "    \n",
    "    if smaller_len == 0:\n",
    "        return 0\n",
    "\n",
    "    s1_sum = sum(ratings_s1)\n",
    "    s2_sum = sum(ratings_s2)\n",
    "\n",
    "    s1_sqsum = sum([rating ** 2 for rating in ratings_s1])\n",
    "    s2_sqsum = sum([rating ** 2 for rating in ratings_s2])\n",
    "\n",
    "    prod = sum([ratings_s1[i] * ratings_s2[i] for i in range(smaller_len)])\n",
    "\n",
    "    numer = prod - ((s1_sum * s2_sum) / smaller_len)\n",
    "    denom = ((s1_sqsum - (s1_sum ** 2) / smaller_len) * (s2_sqsum - (s2_sum ** 2) / smaller_len)) ** 0.5\n",
    "        \n",
    "    if denom == 0:\n",
    "        return 0\n",
    "    \n",
    "    if (isinstance(numer / denom, complex)):\n",
    "        return 0\n",
    "    \n",
    "    \n",
    "    return numer / denom "
   ]
  },
  {
   "cell_type": "code",
   "execution_count": 73,
   "id": "782a0691",
   "metadata": {},
   "outputs": [],
   "source": [
    "def predictRating3(user,item):\n",
    "    # if item not seen before, returning the global average\n",
    "    if item not in itemAvg:\n",
    "        return ratingMean\n",
    "    ratings = [] # ratings to average \n",
    "    sims = [] # similarity scores\n",
    "    for d in reviewsPerUser[user]:\n",
    "        j = d['product_id']\n",
    "        if j == item: continue # skipping query item  \n",
    "        ratings.append(d['rating'] - itemAvg[j])\n",
    "        sims.append(Pearsons(item,j))\n",
    "       \n",
    "\n",
    "    if (sum(sims) > 0):\n",
    "        weightedRatings = [(x*y) for x,y in zip(ratings,sims )]\n",
    "        return itemAvg[item] + (sum(weightedRatings) / sum(sims))\n",
    "    else:\n",
    "        # returning the item’s average rating if no similar items exist\n",
    "        return itemAvg[item] "
   ]
  },
  {
   "cell_type": "code",
   "execution_count": 74,
   "id": "19b7648d",
   "metadata": {},
   "outputs": [],
   "source": [
    "predictions = []\n",
    "for (user_id,item_id,_)  in y:\n",
    "    prediction = predictRating3(user_id, item_id)\n",
    "    if (prediction > 5):\n",
    "        prediction = 5\n",
    "    predictions.append(prediction) \n",
    "\n"
   ]
  },
  {
   "cell_type": "code",
   "execution_count": 75,
   "id": "f70d2d7d",
   "metadata": {},
   "outputs": [
    {
     "name": "stdout",
     "output_type": "stream",
     "text": [
      "Pearsons Correlation Coef MSE: 4295.1511977165455\n",
      "Pearsons Correlation Coef RMSE: 65.5374030437318\n"
     ]
    }
   ],
   "source": [
    "mse = MSE(predictions, y) \n",
    "rmse = np.sqrt(mse)\n",
    "print(f'Pearsons Correlation Coef MSE: {mse}')\n",
    "print(f'Pearsons Correlation Coef RMSE: {rmse}')"
   ]
  },
  {
   "cell_type": "markdown",
   "id": "ed9edbd5",
   "metadata": {},
   "source": [
    "## Matrix Factorization Model (SVD)"
   ]
  },
  {
   "cell_type": "code",
   "execution_count": 78,
   "id": "b82cd217",
   "metadata": {},
   "outputs": [],
   "source": [
    "from surprise import SVD , Reader , Dataset\n",
    "from surprise.model_selection import train_test_split\n",
    "reader = Reader(rating_scale=(1, 5))\n",
    "\n",
    "data = Dataset.load_from_df(reviews[['author_id', 'product_id', 'rating']], reader)\n",
    "dataTrain, dataTest = train_test_split(data, test_size=.25)\n",
    "\n",
    "model = SVD()\n",
    "model.fit(dataTrain)\n",
    "predictions = model.test(dataTest)"
   ]
  },
  {
   "cell_type": "code",
   "execution_count": 79,
   "id": "f5f7895e",
   "metadata": {},
   "outputs": [
    {
     "name": "stdout",
     "output_type": "stream",
     "text": [
      "SVD MSE: 1.0454156160516421\n",
      "SVD RMSE: 1.0224556792603003\n"
     ]
    }
   ],
   "source": [
    "sse = 0\n",
    "for p in predictions:\n",
    "    sse += (p.r_ui - p.est)**2\n",
    "MSE = sse / len(predictions)\n",
    "RMSE = np.sqrt(MSE)\n",
    "print(f'SVD MSE: {MSE}')\n",
    "print(f'SVD RMSE: {RMSE}')"
   ]
  },
  {
   "cell_type": "code",
   "execution_count": 80,
   "id": "a38c3d36",
   "metadata": {},
   "outputs": [
    {
     "data": {
      "text/plain": [
       "{'test_rmse': array([1.45838744, 1.45815722]),\n",
       " 'test_mae': array([1.0709959 , 1.07064982]),\n",
       " 'fit_time': (0.4222548007965088, 0.6213328838348389),\n",
       " 'test_time': (2.250692129135132, 4.324060916900635)}"
      ]
     },
     "execution_count": 80,
     "metadata": {},
     "output_type": "execute_result"
    }
   ],
   "source": [
    "from surprise import Dataset, NormalPredictor, Reader\n",
    "from surprise.model_selection import cross_validate\n",
    "cross_validate(NormalPredictor(), data, cv=2)"
   ]
  },
  {
   "cell_type": "code",
   "execution_count": 83,
   "id": "02333f6f",
   "metadata": {},
   "outputs": [
    {
     "name": "stdout",
     "output_type": "stream",
     "text": [
      "RMSE: 1.0124\n",
      "RMSE: 1.0136\n",
      "RMSE: 1.0127\n",
      "RMSE: 1.0189\n",
      "RMSE: 1.0106\n"
     ]
    }
   ],
   "source": [
    "from surprise import accuracy, Dataset, SVD\n",
    "from surprise.model_selection import KFold\n",
    "kf = KFold(n_splits=5)\n",
    "\n",
    "algo = SVD()\n",
    "\n",
    "for trainset, testset in kf.split(data):\n",
    "\n",
    "    # train and test algorithm.\n",
    "    algo.fit(trainset)\n",
    "    predictions = algo.test(testset)\n",
    "\n",
    "    # Compute and print Root Mean Squared Error\n",
    "    accuracy.rmse(predictions, verbose=True)"
   ]
  },
  {
   "cell_type": "code",
   "execution_count": null,
   "id": "152d017a",
   "metadata": {},
   "outputs": [],
   "source": []
  },
  {
   "cell_type": "code",
   "execution_count": null,
   "id": "04e08517",
   "metadata": {},
   "outputs": [],
   "source": []
  },
  {
   "cell_type": "code",
   "execution_count": null,
   "id": "14662ff9",
   "metadata": {},
   "outputs": [],
   "source": []
  }
 ],
 "metadata": {
  "kernelspec": {
   "display_name": "Python 3 (ipykernel)",
   "language": "python",
   "name": "python3"
  },
  "language_info": {
   "codemirror_mode": {
    "name": "ipython",
    "version": 3
   },
   "file_extension": ".py",
   "mimetype": "text/x-python",
   "name": "python",
   "nbconvert_exporter": "python",
   "pygments_lexer": "ipython3",
   "version": "3.9.12"
  }
 },
 "nbformat": 4,
 "nbformat_minor": 5
}
