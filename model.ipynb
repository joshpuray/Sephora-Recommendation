{
 "cells": [
  {
   "cell_type": "markdown",
   "id": "017568fc-293c-4c4d-91f6-534066b4fe99",
   "metadata": {},
   "source": [
    "# Task"
   ]
  },
  {
   "cell_type": "markdown",
   "id": "8a8ef0fb-4e7d-40f3-9e11-8807bdfa69f0",
   "metadata": {},
   "source": [
    "Predict the rating a user will give a product."
   ]
  },
  {
   "cell_type": "markdown",
   "id": "2ce21a02-3fa7-489f-aa34-8ec46c2e4621",
   "metadata": {},
   "source": [
    "# Importing Libraries & Data"
   ]
  },
  {
   "cell_type": "code",
   "execution_count": 145,
   "id": "68dbe09c-134f-489a-985a-f56272bff974",
   "metadata": {},
   "outputs": [],
   "source": [
    "import pandas as pd\n",
    "import numpy as np\n",
    "import matplotlib.pyplot as plt \n",
    "import seaborn as sns\n",
    "from collections import defaultdict\n",
    "from tqdm import tqdm\n",
    "import math "
   ]
  },
  {
   "cell_type": "code",
   "execution_count": 20,
   "id": "f1af883b-3bd3-44bf-98e4-81209c2ded6c",
   "metadata": {},
   "outputs": [
    {
     "name": "stderr",
     "output_type": "stream",
     "text": [
      "/var/folders/_n/2lzdwcvx2n9087rmk11qlfdw0000gn/T/ipykernel_8296/2225516502.py:3: DtypeWarning: Columns (1) have mixed types. Specify dtype option on import or set low_memory=False.\n",
      "  reviews = pd.read_csv(\"data/reviews_0-250.csv\",index_col=0) # only using first 100_000 rows of reviews\n"
     ]
    }
   ],
   "source": [
    "# Importing Data\n",
    "products = pd.read_csv(\"data/product_info.csv\")\n",
    "reviews = pd.read_csv(\"data/reviews_0-250.csv\",index_col=0) # only using first 100_000 rows of reviews"
   ]
  },
  {
   "cell_type": "code",
   "execution_count": 21,
   "id": "b54bade0-8362-4f90-9c30-7d811a1787e4",
   "metadata": {},
   "outputs": [
    {
     "name": "stdout",
     "output_type": "stream",
     "text": [
      "(8494, 27)\n",
      "(602130, 18)\n"
     ]
    }
   ],
   "source": [
    "print(products.shape)\n",
    "print(reviews.shape)"
   ]
  },
  {
   "cell_type": "code",
   "execution_count": 22,
   "id": "8e9387c4-de5b-46ad-918c-abb6fc8d6d06",
   "metadata": {},
   "outputs": [
    {
     "data": {
      "text/plain": [
       "Index(['author_id', 'rating', 'is_recommended', 'helpfulness',\n",
       "       'total_feedback_count', 'total_neg_feedback_count',\n",
       "       'total_pos_feedback_count', 'submission_time', 'review_text',\n",
       "       'review_title', 'skin_tone', 'eye_color', 'skin_type', 'hair_color',\n",
       "       'product_id', 'product_name', 'brand_name', 'price_usd'],\n",
       "      dtype='object')"
      ]
     },
     "execution_count": 22,
     "metadata": {},
     "output_type": "execute_result"
    }
   ],
   "source": [
    "reviews.columns"
   ]
  },
  {
   "cell_type": "markdown",
   "id": "2ac7ce2a-1858-4ee5-b064-f1ec1a3068ca",
   "metadata": {},
   "source": [
    "# Exploratory Data Analysis"
   ]
  },
  {
   "cell_type": "code",
   "execution_count": 23,
   "id": "cabaf08a-92de-43d1-8040-dd2a279663c6",
   "metadata": {},
   "outputs": [],
   "source": [
    "# Querying for necessary columns\n",
    "products = products[['product_id','brand_id','loves_count','rating','reviews','price_usd','primary_category']]\n",
    "reviews = reviews[['author_id','product_id','rating','is_recommended','helpfulness','submission_time','review_text','review_title']]"
   ]
  },
  {
   "cell_type": "markdown",
   "id": "8fd02c45-86c6-48b4-b7ba-ea41463c5a1f",
   "metadata": {},
   "source": [
    "## Null Values"
   ]
  },
  {
   "cell_type": "code",
   "execution_count": 24,
   "id": "0d086fc8-a406-47b5-9f97-03ff8722e504",
   "metadata": {},
   "outputs": [],
   "source": [
    "# Percentages of null data "
   ]
  },
  {
   "cell_type": "code",
   "execution_count": 25,
   "id": "bf7015d3-678e-4b91-bbbf-7e93085a51c6",
   "metadata": {},
   "outputs": [
    {
     "data": {
      "text/plain": [
       "author_id          0.000000\n",
       "product_id         0.000000\n",
       "rating             0.000000\n",
       "is_recommended     0.195117\n",
       "helpfulness        0.551097\n",
       "submission_time    0.000000\n",
       "review_text        0.001659\n",
       "review_title       0.277367\n",
       "dtype: float64"
      ]
     },
     "execution_count": 25,
     "metadata": {},
     "output_type": "execute_result"
    }
   ],
   "source": [
    "reviews.isnull().sum() / reviews.shape[0]"
   ]
  },
  {
   "cell_type": "code",
   "execution_count": 26,
   "id": "9089054c-77ff-4122-a538-0ae93e6a9f55",
   "metadata": {},
   "outputs": [
    {
     "data": {
      "text/plain": [
       "product_id          0.000000\n",
       "brand_id            0.000000\n",
       "loves_count         0.000000\n",
       "rating              0.032729\n",
       "reviews             0.032729\n",
       "price_usd           0.000000\n",
       "primary_category    0.000000\n",
       "dtype: float64"
      ]
     },
     "execution_count": 26,
     "metadata": {},
     "output_type": "execute_result"
    }
   ],
   "source": [
    "products.isnull().sum() / products.shape[0]"
   ]
  },
  {
   "cell_type": "markdown",
   "id": "56202972-b76f-469c-ac71-0a22a777dc27",
   "metadata": {},
   "source": [
    "## Univariate Analysis"
   ]
  },
  {
   "cell_type": "code",
   "execution_count": 32,
   "id": "1b5cf053-1eec-4060-b8fa-3aea0d237b7f",
   "metadata": {},
   "outputs": [
    {
     "data": {
      "text/plain": [
       "Text(0.5, 1.0, 'Distribution of Product Ratings')"
      ]
     },
     "execution_count": 32,
     "metadata": {},
     "output_type": "execute_result"
    },
    {
     "data": {
      "image/png": "[encoded data removed]",
      "text/plain": [
       "<Figure size 1080x360 with 1 Axes>"
      ]
     },
     "metadata": {
      "needs_background": "light"
     },
     "output_type": "display_data"
    }
   ],
   "source": [
    "# Set the size of the figure\n",
    "plt.figure(figsize=(15, 5))\n",
    "\n",
    "# Plotting the histogram\n",
    "plt.hist(products['rating'], edgecolor='black')\n",
    "\n",
    "# Adding labels and title\n",
    "plt.xlabel('Rating')\n",
    "plt.ylabel('Frequency')\n",
    "plt.title('Distribution of Product Ratings')"
   ]
  },
  {
   "cell_type": "markdown",
   "id": "272dcdae-d6a5-4ae6-a493-84f9821c69c9",
   "metadata": {},
   "source": [
    "Ratings are skewed to being more positive."
   ]
  },
  {
   "cell_type": "code",
   "execution_count": 35,
   "id": "1f5ac798-45e3-4353-9d16-782c0ec73e31",
   "metadata": {},
   "outputs": [
    {
     "data": {
      "text/plain": [
       "Text(0.5, 1.0, 'Distibution of Product Counts')"
      ]
     },
     "execution_count": 35,
     "metadata": {},
     "output_type": "execute_result"
    },
    {
     "data": {
      "image/png": "[encoded data removed]",
      "text/plain": [
       "<Figure size 1080x360 with 1 Axes>"
      ]
     },
     "metadata": {
      "needs_background": "light"
     },
     "output_type": "display_data"
    }
   ],
   "source": [
    "product_counts = reviews.groupby(\"product_id\")[\"author_id\"].count().fillna(0)\n",
    "\n",
    "# Set the size of the figure\n",
    "plt.figure(figsize=(15, 5))\n",
    "\n",
    "# Plotting the histogram\n",
    "plt.hist(product_counts, edgecolor='black', bins=25)\n",
    "\n",
    "# Adding labels and title\n",
    "plt.xlabel('Number of Reviews')\n",
    "plt.ylabel('Frequency')\n",
    "plt.title('Distibution of Product Counts')"
   ]
  },
  {
   "cell_type": "markdown",
   "id": "866bab6b-7d09-4ff6-827d-66989ea9096c",
   "metadata": {},
   "source": [
    "Reviews for each product seem to represent a right-skewed distribution. However there are some outliers that have 8,000+ and even 16,000+ reviews. "
   ]
  },
  {
   "cell_type": "code",
   "execution_count": 36,
   "id": "6fe82423-b11a-4494-a759-18a40f47bfbf",
   "metadata": {},
   "outputs": [
    {
     "data": {
      "text/plain": [
       "Text(0.5, 1.0, 'Histogram of Product Counts')"
      ]
     },
     "execution_count": 36,
     "metadata": {},
     "output_type": "execute_result"
    },
    {
     "data": {
      "image/png": "[encoded data removed]",
      "text/plain": [
       "<Figure size 1080x360 with 1 Axes>"
      ]
     },
     "metadata": {
      "needs_background": "light"
     },
     "output_type": "display_data"
    }
   ],
   "source": [
    "product_counts = reviews.groupby(\"product_id\")[\"author_id\"].count().to_dict()\n",
    "products[\"review_counts\"] = products[\"product_id\"].map(product_counts).fillna(0)\n",
    "\n",
    "# Set the size of the figure\n",
    "plt.figure(figsize=(15, 5))\n",
    "\n",
    "# Plotting the histogram\n",
    "plt.hist(products[\"review_counts\"], edgecolor='black', bins=25)\n",
    "\n",
    "# Adding labels and title\n",
    "plt.xlabel('Number of Reviews')\n",
    "plt.ylabel('Frequency')\n",
    "plt.title('Histogram of Product Counts')"
   ]
  },
  {
   "cell_type": "markdown",
   "id": "4dfd46ce-4beb-4b06-a956-52a00bdaad14",
   "metadata": {},
   "source": [
    "Vast majority of products in the dataset do not have reviews. "
   ]
  },
  {
   "cell_type": "markdown",
   "id": "f25e51af-c7ae-46dc-a89d-5159945e3543",
   "metadata": {},
   "source": [
    "## Bivariate Analysis"
   ]
  },
  {
   "cell_type": "code",
   "execution_count": 39,
   "id": "e261b9bc-38e5-469b-9775-f235ec4a6c73",
   "metadata": {},
   "outputs": [
    {
     "data": {
      "text/plain": [
       "Text(0.5, 1.0, 'Rating vs Number of Reviews')"
      ]
     },
     "execution_count": 39,
     "metadata": {},
     "output_type": "execute_result"
    },
    {
     "data": {
      "image/png": "[encoded data removed]",
      "text/plain": [
       "<Figure size 1080x360 with 1 Axes>"
      ]
     },
     "metadata": {
      "needs_background": "light"
     },
     "output_type": "display_data"
    }
   ],
   "source": [
    "# Set size\n",
    "plt.figure(figsize=(15,5))\n",
    "\n",
    "plt.scatter(data=products, x=\"review_counts\", y=\"rating\")\n",
    "\n",
    "# Adding Labels\n",
    "plt.xlabel(\"Number of Reviews\")\n",
    "plt.ylabel(\"Rating\")\n",
    "plt.title(\"Rating vs Number of Reviews\")"
   ]
  },
  {
   "cell_type": "markdown",
   "id": "e45e2aa0-3eea-4e4b-847e-015fe582cf2b",
   "metadata": {},
   "source": [
    "No correlation for number of reviews and the rating of a product."
   ]
  },
  {
   "cell_type": "code",
   "execution_count": 59,
   "id": "084c868d-da80-4ab7-bae7-36d87c09599c",
   "metadata": {},
   "outputs": [],
   "source": [
    "products[\"has_reviews\"] = 0 \n",
    "products.loc[products[\"review_counts\"] > 0, \"has_reviews\"] = 1"
   ]
  },
  {
   "cell_type": "code",
   "execution_count": 80,
   "id": "54fe3bc1-23cf-47cf-b253-2fd22bf80f11",
   "metadata": {},
   "outputs": [
    {
     "data": {
      "text/plain": [
       "4.191042430328897"
      ]
     },
     "execution_count": 80,
     "metadata": {},
     "output_type": "execute_result"
    }
   ],
   "source": [
    "no_reviews.rating.mean()"
   ]
  },
  {
   "cell_type": "code",
   "execution_count": 81,
   "id": "e367c2c4-f529-464b-89f0-bf1374da2361",
   "metadata": {},
   "outputs": [
    {
     "data": {
      "text/plain": [
       "4.3050956000000005"
      ]
     },
     "execution_count": 81,
     "metadata": {},
     "output_type": "execute_result"
    }
   ],
   "source": [
    "has_reviews.rating.mean()"
   ]
  },
  {
   "cell_type": "code",
   "execution_count": 87,
   "id": "d2b42cb7-d052-4205-b8e1-6c974a33de59",
   "metadata": {},
   "outputs": [
    {
     "data": {
      "text/plain": [
       "<matplotlib.legend.Legend at 0x7fefd3465310>"
      ]
     },
     "execution_count": 87,
     "metadata": {},
     "output_type": "execute_result"
    },
    {
     "data": {
      "image/png": "[encoded data removed]",
      "text/plain": [
       "<Figure size 1080x360 with 1 Axes>"
      ]
     },
     "metadata": {
      "needs_background": "light"
     },
     "output_type": "display_data"
    }
   ],
   "source": [
    "# Size \n",
    "plt.figure(figsize=(15,5))\n",
    "# Seperating data by \"has_reviews\"\n",
    "mean_no_reviews = products[products[\"has_reviews\"] == 0]\n",
    "mean_has_reviews = products[products[\"has_reviews\"] == 1]\n",
    "\n",
    "# Create side-by-side histograms\n",
    "plt.hist(no_reviews['rating'], color='orange', edgecolor='black', alpha=0.7, label='0 Reviews', density=True)\n",
    "plt.hist(has_reviews['rating'], color='blue', edgecolor='black', alpha=0.7, label='1 or more Reviews', density=True)\n",
    "\n",
    "# Set labels and title\n",
    "plt.xlabel('Rating')\n",
    "plt.ylabel('Density')\n",
    "plt.title('Distribution of Ratings by Number of Reviews')\n",
    "plt.legend()"
   ]
  },
  {
   "cell_type": "markdown",
   "id": "b3038c2b-97e7-4a3f-af65-33520fed644e",
   "metadata": {},
   "source": [
    "Products with 1 or more reviews has a \"skinnier\" distribution around 4.3 while the products with 0 reviews have a more wide distribution coveringa larger range of values. Which means our model will probbaly tend to rate higher values and may not be able to predict lower ratings because those products don't appear in the reviews table."
   ]
  },
  {
   "cell_type": "markdown",
   "id": "41bcb8e9-6494-433b-a7b7-64b04d000aca",
   "metadata": {},
   "source": [
    "# Baseline Models"
   ]
  },
  {
   "cell_type": "markdown",
   "id": "5bb8cb51-8659-4161-a0c0-d89f5dbae682",
   "metadata": {},
   "source": [
    "## Creating Training and Testing Sets"
   ]
  },
  {
   "cell_type": "code",
   "execution_count": 91,
   "id": "02d30cd2-e4b5-44dc-a8fa-ae6691eda340",
   "metadata": {},
   "outputs": [],
   "source": [
    "# Create training and test set for reviews \n",
    "from sklearn.model_selection import train_test_split\n",
    "\n",
    "train_set, test_set = train_test_split(reviews, test_size=0.2, random_state=42)"
   ]
  },
  {
   "cell_type": "code",
   "execution_count": 92,
   "id": "9db9b9f6-643a-4c06-addd-70edbc5172b8",
   "metadata": {},
   "outputs": [],
   "source": [
    "# Splitting data and maintaining distribution of ratings in training and test set\n",
    "from sklearn.model_selection import StratifiedShuffleSplit\n",
    "\n",
    "split = StratifiedShuffleSplit(n_splits=1, test_size=0.2, random_state=42) \n",
    "\n",
    "for train_index, test_index in split.split(reviews, reviews[\"rating\"]):\n",
    "        strat_train_set = reviews.loc[train_index]\n",
    "        strat_test_set = reviews.loc[test_index]"
   ]
  },
  {
   "cell_type": "code",
   "execution_count": 93,
   "id": "139d3edc-5e01-487e-ac37-500d7be8276d",
   "metadata": {},
   "outputs": [
    {
     "data": {
      "text/plain": [
       "rating\n",
       "5    0.646040\n",
       "4    0.177629\n",
       "3    0.073104\n",
       "1    0.054644\n",
       "2    0.048583\n",
       "Name: count, dtype: float64"
      ]
     },
     "execution_count": 93,
     "metadata": {},
     "output_type": "execute_result"
    }
   ],
   "source": [
    "reviews.rating.value_counts() / len(reviews)"
   ]
  },
  {
   "cell_type": "code",
   "execution_count": 94,
   "id": "31c915bb-96ff-42a2-8df4-b40eabc9acdb",
   "metadata": {},
   "outputs": [
    {
     "data": {
      "text/plain": [
       "rating\n",
       "5    0.646040\n",
       "4    0.177630\n",
       "3    0.073103\n",
       "1    0.054646\n",
       "2    0.048582\n",
       "Name: count, dtype: float64"
      ]
     },
     "execution_count": 94,
     "metadata": {},
     "output_type": "execute_result"
    }
   ],
   "source": [
    "strat_train_set.rating.value_counts() / len(strat_train_set)"
   ]
  },
  {
   "cell_type": "markdown",
   "id": "680db053-d0e7-460b-911c-7bff35c87eb2",
   "metadata": {},
   "source": [
    "## Predict Average Rating"
   ]
  },
  {
   "cell_type": "markdown",
   "id": "b84ab892-5fce-43c2-b717-72e332cbc9b6",
   "metadata": {},
   "source": [
    "A simple model we can implement is to predict that a user will give a product its already average rating."
   ]
  },
  {
   "cell_type": "code",
   "execution_count": 114,
   "id": "83605650-9cad-487e-b5c5-170b6dd8abb8",
   "metadata": {},
   "outputs": [
    {
     "name": "stdout",
     "output_type": "stream",
     "text": [
      "4.194512889483933\n"
     ]
    }
   ],
   "source": [
    "itemAvg = products.set_index('product_id')['rating'].to_dict()\n",
    "globalAvg = products['rating'].mean()\n",
    "print(globalAvg)"
   ]
  },
  {
   "cell_type": "code",
   "execution_count": 96,
   "id": "6151cc82-aa74-48f5-9790-c02a3450d61c",
   "metadata": {},
   "outputs": [],
   "source": [
    "def avgRating(product_id):\n",
    "    if product_id not in itemAvg: # return globalAvg if product has not been seen before\n",
    "        return [globalAvg]\n",
    "    return [itemAvg[product_id]]"
   ]
  },
  {
   "cell_type": "code",
   "execution_count": 99,
   "id": "655e3426-1381-4345-8438-d5db1428de72",
   "metadata": {},
   "outputs": [],
   "source": [
    "# Predicting ratings\n",
    "y = np.array(strat_test_set.rating)\n",
    "y_pred = strat_test_set.product_id.apply(avgRating).to_list()"
   ]
  },
  {
   "cell_type": "code",
   "execution_count": 100,
   "id": "afb3de1c-330d-4abd-b033-ec4fd07512ad",
   "metadata": {},
   "outputs": [
    {
     "name": "stdout",
     "output_type": "stream",
     "text": [
      "MSE:1.260001177844153\n",
      "RMSE:1.122497740685545\n"
     ]
    }
   ],
   "source": [
    "# Model Evaluation\n",
    "from sklearn.metrics import mean_squared_error\n",
    "\n",
    "mse = mean_squared_error(y, y_pred)\n",
    "rmse = np.sqrt(mse)\n",
    "print(f'MSE:{mse}')\n",
    "print(f'RMSE:{rmse}') "
   ]
  },
  {
   "cell_type": "markdown",
   "id": "2f6f17c6-af81-4bad-a636-9434dc03366e",
   "metadata": {},
   "source": [
    "This model's predictions are off by about 1.12. Since rating go from a scale from 1 - 5 this model performs pretty bad being off by 1.12 is pretty bad."
   ]
  },
  {
   "cell_type": "markdown",
   "id": "442fb6ff-29b0-4ee6-8412-ee98104980c2",
   "metadata": {},
   "source": [
    "## User & Item Deviations Model"
   ]
  },
  {
   "cell_type": "markdown",
   "id": "75c9581c-c4a5-4b99-9f89-db8b9ca1b4c4",
   "metadata": {},
   "source": [
    "Another model we can exlore is to determine the deviations each user has in their personal ratings and the deviations each item has compared to the global averages. "
   ]
  },
  {
   "cell_type": "code",
   "execution_count": 101,
   "id": "30137f79-3a41-4697-a9fa-6810ff32ee7e",
   "metadata": {},
   "outputs": [],
   "source": [
    "# Functions for the model \n",
    "\n",
    "# Create feature vector\n",
    "def features(datum, alpha, betaU, betaI):\n",
    "    user = datum.author_id\n",
    "    item = datum.product_id\n",
    "    \n",
    "    # logic for users or items not seen in the training set\n",
    "    if user in betaU:\n",
    "        bu = betaU[user]\n",
    "    else:\n",
    "        bu = 0\n",
    "        \n",
    "    if item in betaI:\n",
    "        bi = betaI[item]\n",
    "    else:\n",
    "        bi = 0\n",
    "        \n",
    "    return [alpha, bu, bi]\n",
    "\n",
    "def predict_rating(datum):\n",
    "    a = datum[0]\n",
    "    bu = datum[1]\n",
    "    bi = datum[2]\n",
    "    return a + bu + bi"
   ]
  },
  {
   "cell_type": "code",
   "execution_count": 102,
   "id": "b3ffc2fe-c2dc-4836-a9d9-ecd835959606",
   "metadata": {},
   "outputs": [],
   "source": [
    "ratingsPerUser = strat_train_set.groupby('author_id')['rating'].count().to_dict()\n",
    "ratingsPerItem = strat_train_set.groupby('product_id')['rating'].count().to_dict()\n",
    "\n",
    "userAvg = strat_train_set.groupby('author_id')['rating'].mean().to_dict()\n",
    "products = products.dropna(subset=['rating'])\n",
    "itemAvg = products.set_index('product_id')['rating'].to_dict()\n",
    "# ratingMean = sum(itemAvg.values()) / len(itemAvg)\n",
    "# ratingMean # based on avg product reviews"
   ]
  },
  {
   "cell_type": "code",
   "execution_count": 104,
   "id": "f21f1a1b",
   "metadata": {},
   "outputs": [],
   "source": [
    "# usersPerItem = defaultdict(set)\n",
    "# itemsPerUser = defaultdict(set)\n",
    "# reviewsPerUser = defaultdict(list)\n",
    "\n",
    "# for index, review in strat_train_set.iterrows():\n",
    "#     user_id = review['author_id']\n",
    "#     item_id = review['product_id']\n",
    "#     rating = float(review['rating'])\n",
    "\n",
    "#     usersPerItem[item_id].add(user_id)\n",
    "#     itemsPerUser[user_id].add(item_id)\n",
    "\n",
    "#     reviewsPerUser[user_id].append(review)\n",
    "    \n",
    "# userReviewAverages = {}\n",
    "# itemReviewAverages = {}\n",
    "\n",
    "# for u in itemsPerUser:\n",
    "#     rs = [ratingDict[(u,i)] for i in itemsPerUser[u]]\n",
    "#     userReviewAverages[u] = sum(rs) / len(rs)\n",
    "    \n",
    "# for i in usersPerItem:\n",
    "#     rs = [ratingDict[(u,i)] for u in usersPerItem[i]]\n",
    "#     itemReviewAverages[i] = sum(rs) / len(rs)\n",
    "    \n",
    "# ratingMean = sum(itemReviewAverages.values())/len(itemReviewAverages)\n",
    "# ratingMean # based on reviews"
   ]
  },
  {
   "cell_type": "code",
   "execution_count": 105,
   "id": "161d034e-a985-4b78-9c18-b15877038954",
   "metadata": {},
   "outputs": [],
   "source": [
    "MSEs = defaultdict(list)"
   ]
  },
  {
   "cell_type": "code",
   "execution_count": 123,
   "id": "b6c1162f-fbdf-4a1d-8b87-231a4174e0a9",
   "metadata": {},
   "outputs": [
    {
     "name": "stderr",
     "output_type": "stream",
     "text": [
      "481704it [00:30, 15927.98it/s]\n"
     ]
    },
    {
     "name": "stdout",
     "output_type": "stream",
     "text": [
      "Iteration 1, MSE: 0.2869475500189116, MSE Difference: 0.2869475500189116\n"
     ]
    }
   ],
   "source": [
    "# Initializing values \n",
    "\n",
    "alpha = globalAvg\n",
    "betaU = {}\n",
    "betaI = {}\n",
    "\n",
    "for u in userAvg:\n",
    "    betaU[u] = userAvg[u] - alpha\n",
    "for i in itemAvg:\n",
    "    betaI[i] = itemAvg[i] - alpha\n",
    "\n",
    "# Opitmization (Gradient Descent) \n",
    "\n",
    "lam = 0 # can change to increase/descrease error  \n",
    "\n",
    "prev_mse = 0\n",
    "iteration = 1\n",
    "\n",
    "# Training sets\n",
    "y = np.array(strat_train_set.rating)\n",
    "\n",
    "for i in range(1):\n",
    "    alphas = []\n",
    "    betaUs = defaultdict(list)\n",
    "    betaIs = defaultdict(list)\n",
    "    \n",
    "    for index, row in tqdm(strat_train_set.iterrows()):\n",
    "        user = row.author_id\n",
    "        item = row.product_id\n",
    "        rating = row.rating\n",
    "        bu = betaU[user]\n",
    "        bi = betaI[item]\n",
    "\n",
    "        alphas.append(rating - (bu + bi))\n",
    "        betaUs[user].append(rating - (alpha + bi))\n",
    "        betaIs[item].append(rating - (alpha + bu))\n",
    "    \n",
    "    alpha = sum(alphas) / len(strat_train_set)\n",
    "    \n",
    "    for u in betaUs:\n",
    "        betaU[u] = sum(betaUs[u]) / (lam + ratingsPerUser[u])\n",
    "\n",
    "    for i in betaIs:\n",
    "        betaI[i] = sum(betaIs[i]) / (lam + ratingsPerItem[i])\n",
    "\n",
    "    # Caclculate MSE \n",
    "    X = [features(row, alpha, betaU, betaI) for index,row in strat_train_set.iterrows()]\n",
    "    y_pred = [predict_rating(x) for x in X]\n",
    "    trainMse = mean_squared_error(y, y_pred)\n",
    "    \n",
    "    print(f\"Iteration {iteration}, MSE: {trainMse}, MSE Difference: {abs(prev_mse-trainMse)}\")\n",
    "    if abs(trainMse - prev_mse) < 0.1 or (prev_mse < trainMse and prev_mse != 0): break\n",
    "    \n",
    "#    MSEs[lam].append((trainMse, iteration))\n",
    "    iteration += 1\n",
    "    prev_mse = trainMse"
   ]
  },
  {
   "cell_type": "code",
   "execution_count": 124,
   "id": "b71b9943-f0c8-462e-8c20-218d5a77dc78",
   "metadata": {},
   "outputs": [],
   "source": [
    "# Keeping track of beset lambdas \n",
    "MSEs = {0:(1,0.2869475500189116), 0.5:(1,0.37123573326746806),0.7:(1,0.417800212704393),\n",
    "        1.1:(1,0.5051117828232283), 1.2:(1,0.5250825093376316), 1.3:(1,0.5442690897035047),\n",
    "        1.5:(1,0.5803521882037794), 1.7:(1,0.6135531708458034)}"
   ]
  },
  {
   "cell_type": "code",
   "execution_count": 125,
   "id": "0934c21d-2cc4-4cc5-88c8-a0375c5cbaba",
   "metadata": {},
   "outputs": [],
   "source": [
    "# Model Evaluation"
   ]
  },
  {
   "cell_type": "code",
   "execution_count": 126,
   "id": "22646e15-2d54-4dd9-91c4-5c4aa4acd84e",
   "metadata": {},
   "outputs": [
    {
     "name": "stdout",
     "output_type": "stream",
     "text": [
      "Test MSE: 1.2062849300869145\n",
      "Test RMSE: 1.0983100336821632\n"
     ]
    }
   ],
   "source": [
    "X_test = [features(row, alpha, betaU, betaI) for index,row in strat_test_set.iterrows()]\n",
    "y_pred = [predict_rating(x) for x in X_test]\n",
    "y = np.array(strat_test_set.rating)\n",
    "\n",
    "testMse = mean_squared_error(y, y_pred)\n",
    "testRmse = np.sqrt(testMse)\n",
    "print(f'Test MSE: {testMse}')\n",
    "print(f'Test RMSE: {testRmse}')"
   ]
  },
  {
   "cell_type": "markdown",
   "id": "bfc25dda",
   "metadata": {},
   "source": [
    "## Jaccard Similarity Model"
   ]
  },
  {
   "cell_type": "code",
   "execution_count": 164,
   "id": "f0d10c33-5672-42ff-885b-3df81570d247",
   "metadata": {},
   "outputs": [],
   "source": [
    "def MSE(predictions,y):\n",
    "    differences = [(x-y[2])**2 for x,y in zip(predictions,y)]\n",
    "    return sum(differences) / len(differences)"
   ]
  },
  {
   "cell_type": "code",
   "execution_count": 131,
   "id": "1df8c790",
   "metadata": {},
   "outputs": [],
   "source": [
    "# Data Structures for Model\n",
    "usersPerItem = defaultdict(set)\n",
    "itemsPerUser = defaultdict(set)\n",
    "reviewsPerUser = defaultdict(list)\n",
    "\n",
    "for index, review in strat_train_set.iterrows():\n",
    "    user_id = review['author_id']\n",
    "    item_id = review['product_id']\n",
    "    rating = float(review['rating'])\n",
    "\n",
    "    usersPerItem[item_id].add(user_id)\n",
    "    itemsPerUser[user_id].add(item_id)\n",
    "\n",
    "    reviewsPerUser[user_id].append(review)\n",
    "    \n",
    "y = []\n",
    "for index, row in strat_test_set.iterrows():\n",
    "    y.append((row['author_id'], row['product_id'], row['rating'] ))"
   ]
  },
  {
   "cell_type": "code",
   "execution_count": 132,
   "id": "6340a83d",
   "metadata": {},
   "outputs": [],
   "source": [
    "def Jaccard(s1, s2):\n",
    "    numer = len(s1.intersection(s2))\n",
    "    denom = len(s1.union(s2))\n",
    "    if denom > 0:\n",
    "        return numer/denom\n",
    "    return 0"
   ]
  },
  {
   "cell_type": "code",
   "execution_count": 133,
   "id": "7c1ae144",
   "metadata": {},
   "outputs": [],
   "source": [
    "def predictRating1(user,item):\n",
    "    if item not in itemAvg:\n",
    "        return ratingMean\n",
    "    ratings = [] \n",
    "    sims = []\n",
    "    for d in reviewsPerUser[user]:\n",
    "        j = d['product_id']\n",
    "        if j == item: continue  \n",
    "        ratings.append(d['rating'] - itemAvg[j])\n",
    "        sims.append(Jaccard(usersPerItem[item],usersPerItem[j]))\n",
    "    if (sum(sims) > 0):\n",
    "        weightedRatings = [(x*y) for x,y in zip(ratings,sims )]\n",
    "        return itemAvg[item] + (sum(weightedRatings) / sum(sims))\n",
    "    else:\n",
    "        return itemAvg[item] "
   ]
  },
  {
   "cell_type": "code",
   "execution_count": 134,
   "id": "e03b0154",
   "metadata": {},
   "outputs": [],
   "source": [
    "# using jaccard similarity \n",
    "predictions = []\n",
    "for (user_id,item_id,_)  in y:\n",
    "    prediction = predictRating1(user_id, item_id)\n",
    "    if (prediction > 5):\n",
    "        prediction = 5\n",
    "    predictions.append(prediction) "
   ]
  },
  {
   "cell_type": "code",
   "execution_count": 136,
   "id": "c4ca23dc",
   "metadata": {},
   "outputs": [
    {
     "name": "stdout",
     "output_type": "stream",
     "text": [
      "Jaccard Sim MSE: 1.058900776185314\n",
      "Jaccard Sim RMSE: 1.0290290453555302\n"
     ]
    }
   ],
   "source": [
    "mse = MSE(predictions, y)\n",
    "rmse = np.sqrt(mse)\n",
    "print(f'Jaccard Sim MSE: {mse}')\n",
    "print(f'Jaccard Sim RMSE: {rmse}')"
   ]
  },
  {
   "cell_type": "markdown",
   "id": "c22c33d4",
   "metadata": {},
   "source": [
    "## Cosine Similarity Model"
   ]
  },
  {
   "cell_type": "code",
   "execution_count": 141,
   "id": "700453e0-886f-460c-b9bc-e16355ea1cb3",
   "metadata": {},
   "outputs": [],
   "source": [
    "# Data Structures \n",
    "ratingDict = {}\n",
    "for index, review in strat_train_set.iterrows():\n",
    "    user_id = review['author_id']\n",
    "    item_id = review['product_id']\n",
    "    rating = float(review['rating'])\n",
    "\n",
    "    ratingDict[(user_id, item_id)] = rating"
   ]
  },
  {
   "cell_type": "code",
   "execution_count": 142,
   "id": "9e822c17",
   "metadata": {},
   "outputs": [],
   "source": [
    "def Cosine(i1, i2):\n",
    "    # Between two items\n",
    "    inter = usersPerItem[i1].intersection(usersPerItem[i2])\n",
    "    numer = 0\n",
    "    denom1 = 0\n",
    "    denom2 = 0\n",
    "    for u in inter:\n",
    "        #print(ratingDict[(u,i1)])\n",
    "        numer += ratingDict[(u,i1)]*ratingDict[(u,i2)]\n",
    "    for u in usersPerItem[i1]:\n",
    "        denom1 += ratingDict[(u,i1)]**2\n",
    "    for u in usersPerItem[i2]:\n",
    "        denom2 += ratingDict[(u,i2)]**2\n",
    "    denom = math.sqrt(denom1) * math.sqrt(denom2)\n",
    "    if denom == 0: return 0\n",
    "    return numer / denom"
   ]
  },
  {
   "cell_type": "code",
   "execution_count": 146,
   "id": "abe01ac1",
   "metadata": {},
   "outputs": [],
   "source": [
    "def predictRating2(user,item):\n",
    "    if item not in itemAvg:\n",
    "        return ratingMean\n",
    "    ratings = [] \n",
    "    sims = []\n",
    "    for d in reviewsPerUser[user]:\n",
    "        j = d['product_id']\n",
    "        if j == item: continue  \n",
    "        ratings.append(d['rating'] - itemAvg[j])\n",
    "        sims.append(Cosine(item,j))\n",
    "    if (sum(sims) > 0):\n",
    "        weightedRatings = [(x*y) for x,y in zip(ratings,sims )]\n",
    "        return itemAvg[item] + (sum(weightedRatings) / sum(sims))\n",
    "    else:\n",
    "        return itemAvg[item] "
   ]
  },
  {
   "cell_type": "code",
   "execution_count": 148,
   "id": "aaeb151e",
   "metadata": {},
   "outputs": [
    {
     "name": "stderr",
     "output_type": "stream",
     "text": [
      "100%|██████████████████████████████████| 120426/120426 [09:01<00:00, 222.40it/s]\n"
     ]
    }
   ],
   "source": [
    "# using cosine similarity \n",
    "predictions = []\n",
    "for (user_id,item_id,_)  in tqdm(y):\n",
    "    prediction = predictRating2(user_id, item_id)\n",
    "    if (prediction > 5):\n",
    "        prediction = 5\n",
    "    predictions.append(prediction) "
   ]
  },
  {
   "cell_type": "code",
   "execution_count": 149,
   "id": "b46993b4",
   "metadata": {},
   "outputs": [
    {
     "name": "stdout",
     "output_type": "stream",
     "text": [
      "Cosine Sim MSE: 1.0598484012773837\n",
      "Cosine Sim RMSE: 1.0294893886181555\n"
     ]
    }
   ],
   "source": [
    "mse = MSE(predictions, y)\n",
    "rmse = np.sqrt(mse)\n",
    "print(f'Cosine Sim MSE: {mse}')\n",
    "print(f'Cosine Sim RMSE: {rmse}')"
   ]
  },
  {
   "cell_type": "markdown",
   "id": "4299ef9a",
   "metadata": {},
   "source": [
    "## Pearsons Similarity Model"
   ]
  },
  {
   "cell_type": "code",
   "execution_count": 150,
   "id": "515d51fd",
   "metadata": {},
   "outputs": [],
   "source": [
    "def Pearsons(i1,i2):\n",
    "    inter = usersPerItem[i1].intersection(usersPerItem[i2])\n",
    "    \n",
    "    ratings_s1 = [ratingDict[(u, i1)] for u in inter]\n",
    "    ratings_s2 = [ratingDict[(u, i2)] for u in inter]\n",
    "    \n",
    "    smaller_len = len(inter)\n",
    "    \n",
    "    if smaller_len == 0:\n",
    "        return 0\n",
    "\n",
    "    s1_sum = sum(ratings_s1)\n",
    "    s2_sum = sum(ratings_s2)\n",
    "\n",
    "    s1_sqsum = sum([rating ** 2 for rating in ratings_s1])\n",
    "    s2_sqsum = sum([rating ** 2 for rating in ratings_s2])\n",
    "\n",
    "    prod = sum([ratings_s1[i] * ratings_s2[i] for i in range(smaller_len)])\n",
    "\n",
    "    numer = prod - ((s1_sum * s2_sum) / smaller_len)\n",
    "    denom = ((s1_sqsum - (s1_sum ** 2) / smaller_len) * (s2_sqsum - (s2_sum ** 2) / smaller_len)) ** 0.5\n",
    "        \n",
    "    if denom == 0:\n",
    "        return 0\n",
    "    \n",
    "    if (isinstance(numer / denom, complex)):\n",
    "        return 0\n",
    "    \n",
    "    \n",
    "    return numer / denom "
   ]
  },
  {
   "cell_type": "code",
   "execution_count": 151,
   "id": "782a0691",
   "metadata": {},
   "outputs": [],
   "source": [
    "def predictRating3(user,item):\n",
    "    # if item not seen before, returning the global average\n",
    "    if item not in itemAvg:\n",
    "        return ratingMean\n",
    "    ratings = [] # ratings to average \n",
    "    sims = [] # similarity scores\n",
    "    for d in reviewsPerUser[user]:\n",
    "        j = d['product_id']\n",
    "        if j == item: continue # skipping query item  \n",
    "        ratings.append(d['rating'] - itemAvg[j])\n",
    "        sims.append(Pearsons(item,j))\n",
    "       \n",
    "\n",
    "    if (sum(sims) > 0):\n",
    "        weightedRatings = [(x*y) for x,y in zip(ratings,sims )]\n",
    "        return itemAvg[item] + (sum(weightedRatings) / sum(sims))\n",
    "    else:\n",
    "        # returning the item’s average rating if no similar items exist\n",
    "        return itemAvg[item] "
   ]
  },
  {
   "cell_type": "code",
   "execution_count": 158,
   "id": "19b7648d",
   "metadata": {},
   "outputs": [
    {
     "name": "stderr",
     "output_type": "stream",
     "text": [
      "100%|█████████████████████████████████| 120426/120426 [01:49<00:00, 1100.24it/s]\n"
     ]
    }
   ],
   "source": [
    "predictions = []\n",
    "for (user_id,item_id,_)  in tqdm(y):\n",
    "    prediction = predictRating3(user_id, item_id)\n",
    "    if (prediction > 5):\n",
    "        prediction = 5\n",
    "    predictions.append(prediction) "
   ]
  },
  {
   "cell_type": "code",
   "execution_count": 163,
   "id": "f70d2d7d",
   "metadata": {},
   "outputs": [
    {
     "name": "stdout",
     "output_type": "stream",
     "text": [
      "Pearsons Correlation Coef MSE: 4294.864315267552\n",
      "Pearsons Correlation Coef RMSE: 65.5352143146534\n"
     ]
    }
   ],
   "source": [
    "mse = MSE(predictions, y) \n",
    "rmse = np.sqrt(mse)\n",
    "print(f'Pearsons Correlation Coef MSE: {mse}')\n",
    "print(f'Pearsons Correlation Coef RMSE: {rmse}')"
   ]
  },
  {
   "cell_type": "markdown",
   "id": "ed9edbd5",
   "metadata": {},
   "source": [
    "# Matrix Factorization Model (SVD)"
   ]
  },
  {
   "cell_type": "code",
   "execution_count": 153,
   "id": "4a9d6aac-ec90-46e4-b631-a73d21141f09",
   "metadata": {},
   "outputs": [],
   "source": [
    "# Importing Packages\n",
    "from surprise import SVD , Reader , Dataset, accuracy, NormalPredictor\n",
    "from surprise.model_selection import train_test_split, KFold, cross_validate"
   ]
  },
  {
   "cell_type": "code",
   "execution_count": 154,
   "id": "b82cd217",
   "metadata": {},
   "outputs": [],
   "source": [
    "# Creating Model\n",
    "reader = Reader(rating_scale=(1, 5))\n",
    "\n",
    "data = Dataset.load_from_df(reviews[['author_id', 'product_id', 'rating']], reader)\n",
    "dataTrain, dataTest = train_test_split(data, test_size=.25)\n",
    "\n",
    "model = SVD()\n",
    "model.fit(dataTrain)\n",
    "predictions = model.test(dataTest)"
   ]
  },
  {
   "cell_type": "code",
   "execution_count": 155,
   "id": "f5f7895e",
   "metadata": {},
   "outputs": [
    {
     "name": "stdout",
     "output_type": "stream",
     "text": [
      "SVD MSE: 1.0383113929817052\n",
      "SVD RMSE: 1.0189756586796885\n"
     ]
    }
   ],
   "source": [
    "# Model Evaluation\n",
    "sse = 0\n",
    "for p in predictions:\n",
    "    sse += (p.r_ui - p.est)**2\n",
    "MSE = sse / len(predictions)\n",
    "RMSE = np.sqrt(MSE)\n",
    "print(f'SVD MSE: {MSE}')\n",
    "print(f'SVD RMSE: {RMSE}')"
   ]
  },
  {
   "cell_type": "markdown",
   "id": "4075ecfe-4099-4d91-ae6d-45909e6fc41e",
   "metadata": {},
   "source": [
    "## Model Optimization (Cross Validation)"
   ]
  },
  {
   "cell_type": "code",
   "execution_count": 156,
   "id": "a38c3d36",
   "metadata": {},
   "outputs": [
    {
     "data": {
      "text/plain": [
       "{'test_rmse': array([1.45739262, 1.45477954]),\n",
       " 'test_mae': array([1.06912579, 1.06803085]),\n",
       " 'fit_time': (0.3128509521484375, 0.3758571147918701),\n",
       " 'test_time': (1.0722291469573975, 1.045090913772583)}"
      ]
     },
     "execution_count": 156,
     "metadata": {},
     "output_type": "execute_result"
    }
   ],
   "source": [
    "cross_validate(NormalPredictor(), data, cv=2)"
   ]
  },
  {
   "cell_type": "markdown",
   "id": "4223eac1-627f-41b7-847b-5a85bbe724d1",
   "metadata": {},
   "source": [
    "## Model Optimization (K-Fold Validation)"
   ]
  },
  {
   "cell_type": "code",
   "execution_count": 157,
   "id": "02333f6f",
   "metadata": {},
   "outputs": [
    {
     "name": "stdout",
     "output_type": "stream",
     "text": [
      "RMSE: 1.0113\n",
      "RMSE: 1.0152\n",
      "RMSE: 1.0174\n",
      "RMSE: 1.0120\n",
      "RMSE: 1.0081\n"
     ]
    }
   ],
   "source": [
    "\n",
    "kf = KFold(n_splits=5)\n",
    "\n",
    "algo = SVD()\n",
    "\n",
    "for trainset, testset in kf.split(data):\n",
    "\n",
    "    # train and test algorithm.\n",
    "    algo.fit(trainset)\n",
    "    predictions = algo.test(testset)\n",
    "\n",
    "    # Compute and print Root Mean Squared Error\n",
    "    accuracy.rmse(predictions, verbose=True)"
   ]
  }
 ],
 "metadata": {
  "kernelspec": {
   "display_name": "Python 3 (ipykernel)",
   "language": "python",
   "name": "python3"
  },
  "language_info": {
   "codemirror_mode": {
    "name": "ipython",
    "version": 3
   },
   "file_extension": ".py",
   "mimetype": "text/x-python",
   "name": "python",
   "nbconvert_exporter": "python",
   "pygments_lexer": "ipython3",
   "version": "3.9.7"
  }
 },
 "nbformat": 4,
 "nbformat_minor": 5
}
