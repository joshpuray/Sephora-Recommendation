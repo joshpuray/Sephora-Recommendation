{
 "cells": [
  {
   "cell_type": "markdown",
   "id": "017568fc-293c-4c4d-91f6-534066b4fe99",
   "metadata": {},
   "source": [
    "# Task"
   ]
  },
  {
   "cell_type": "markdown",
   "id": "8a8ef0fb-4e7d-40f3-9e11-8807bdfa69f0",
   "metadata": {},
   "source": [
    "Predict the rating a user will give a product."
   ]
  },
  {
   "cell_type": "markdown",
   "id": "2ce21a02-3fa7-489f-aa34-8ec46c2e4621",
   "metadata": {},
   "source": [
    "# Importing Libraries & Data"
   ]
  },
  {
   "cell_type": "code",
   "execution_count": 2,
   "id": "68dbe09c-134f-489a-985a-f56272bff974",
   "metadata": {},
   "outputs": [],
   "source": [
    "import pandas as pd\n",
    "import numpy as np\n",
    "import matplotlib.pyplot as plt \n",
    "import seaborn as sns\n",
    "from collections import defaultdict\n",
    "from tqdm import tqdm\n",
    "import math "
   ]
  },
  {
   "cell_type": "code",
   "execution_count": 3,
   "id": "f1af883b-3bd3-44bf-98e4-81209c2ded6c",
   "metadata": {},
   "outputs": [],
   "source": [
    "# Importing Data\n",
    "cols = ['author_id','product_id','rating']\n",
    "dtype = {'author_id':'object', 'product_id':'object', 'rating':'object'}\n",
    "\n",
    "products = pd.read_csv(\"data/product_info.csv\")[['product_id','rating']].rename(columns={\"rating\":\"avg_rating\"})\n",
    "rev1 = pd.read_csv(\"data/reviews_0-250.csv\",index_col=0, usecols=cols, dtype=dtype)\n",
    "rev2 = pd.read_csv(\"data/reviews_250-500.csv\",index_col=0, usecols=cols, dtype=dtype)\n",
    "rev3 = pd.read_csv(\"data/reviews_500-750.csv\",index_col=0, usecols=cols, dtype=dtype)\n",
    "rev4 = pd.read_csv(\"data/reviews_750-1250.csv\",index_col=0, usecols=cols, dtype=dtype)\n",
    "rev5 = pd.read_csv(\"data/reviews_1250-end.csv\",index_col=0,  usecols=cols, dtype=dtype)"
   ]
  },
  {
   "cell_type": "code",
   "execution_count": 4,
   "id": "8a701076",
   "metadata": {},
   "outputs": [],
   "source": [
    "# Concating all reviews together \n",
    "reviews = pd.concat([rev1,rev2,rev3,rev4,rev5]).reset_index()\n",
    "reviews['rating'] = pd.to_numeric(reviews['rating'], errors='coerce')\n",
    "reviews = reviews.dropna()"
   ]
  },
  {
   "cell_type": "code",
   "execution_count": 5,
   "id": "1b8ffba2",
   "metadata": {},
   "outputs": [
    {
     "name": "stdout",
     "output_type": "stream",
     "text": [
      "(8494, 2)\n",
      "(1365244, 4)\n"
     ]
    }
   ],
   "source": [
    "# Merging products & reviews\n",
    "product_reviews = reviews.merge(products, on=\"product_id\")\n",
    "print(products.shape)\n",
    "print(product_reviews.shape)"
   ]
  },
  {
   "cell_type": "code",
   "execution_count": 6,
   "id": "8e9387c4-de5b-46ad-918c-abb6fc8d6d06",
   "metadata": {},
   "outputs": [
    {
     "name": "stdout",
     "output_type": "stream",
     "text": [
      "<class 'pandas.core.frame.DataFrame'>\n",
      "RangeIndex: 1365244 entries, 0 to 1365243\n",
      "Data columns (total 4 columns):\n",
      " #   Column      Non-Null Count    Dtype  \n",
      "---  ------      --------------    -----  \n",
      " 0   author_id   1365244 non-null  object \n",
      " 1   rating      1365244 non-null  float64\n",
      " 2   product_id  1365244 non-null  object \n",
      " 3   avg_rating  1365244 non-null  float64\n",
      "dtypes: float64(2), object(2)\n",
      "memory usage: 41.7+ MB\n"
     ]
    }
   ],
   "source": [
    "product_reviews.info()"
   ]
  },
  {
   "cell_type": "markdown",
   "id": "2ac7ce2a-1858-4ee5-b064-f1ec1a3068ca",
   "metadata": {},
   "source": [
    "# Exploratory Data Analysis"
   ]
  },
  {
   "cell_type": "markdown",
   "id": "8fd02c45-86c6-48b4-b7ba-ea41463c5a1f",
   "metadata": {},
   "source": [
    "## Null Values"
   ]
  },
  {
   "cell_type": "code",
   "execution_count": 6,
   "id": "0d086fc8-a406-47b5-9f97-03ff8722e504",
   "metadata": {},
   "outputs": [],
   "source": [
    "# Percentages of null data "
   ]
  },
  {
   "cell_type": "code",
   "execution_count": 103,
   "id": "bf7015d3-678e-4b91-bbbf-7e93085a51c6",
   "metadata": {},
   "outputs": [
    {
     "data": {
      "text/plain": [
       "author_id     0.0\n",
       "rating        0.0\n",
       "product_id    0.0\n",
       "dtype: float64"
      ]
     },
     "execution_count": 103,
     "metadata": {},
     "output_type": "execute_result"
    }
   ],
   "source": [
    "product_reviews.isnull().sum() / reviews.shape[0]"
   ]
  },
  {
   "cell_type": "code",
   "execution_count": 104,
   "id": "9089054c-77ff-4122-a538-0ae93e6a9f55",
   "metadata": {},
   "outputs": [
    {
     "data": {
      "text/plain": [
       "product_id            0.000000\n",
       "product_name          0.000000\n",
       "brand_id              0.000000\n",
       "brand_name            0.000000\n",
       "loves_count           0.000000\n",
       "rating                0.000000\n",
       "reviews               0.000000\n",
       "size                  0.185127\n",
       "variation_type        0.162366\n",
       "variation_value       0.180623\n",
       "variation_desc        0.849197\n",
       "ingredients           0.108812\n",
       "price_usd             0.000000\n",
       "value_price_usd       0.953505\n",
       "sale_price_usd        0.967989\n",
       "limited_edition       0.000000\n",
       "new                   0.000000\n",
       "online_only           0.000000\n",
       "out_of_stock          0.000000\n",
       "sephora_exclusive     0.000000\n",
       "highlights            0.263145\n",
       "primary_category      0.000000\n",
       "secondary_category    0.000852\n",
       "tertiary_category     0.110881\n",
       "child_count           0.000000\n",
       "child_max_price       0.668452\n",
       "child_min_price       0.668452\n",
       "review_counts         0.000000\n",
       "has_reviews           0.000000\n",
       "dtype: float64"
      ]
     },
     "execution_count": 104,
     "metadata": {},
     "output_type": "execute_result"
    }
   ],
   "source": [
    "product_reviews.isnull().sum() / products.shape[0]"
   ]
  },
  {
   "cell_type": "markdown",
   "id": "56202972-b76f-469c-ac71-0a22a777dc27",
   "metadata": {},
   "source": [
    "## Univariate Analysis"
   ]
  },
  {
   "cell_type": "code",
   "execution_count": 9,
   "id": "1b5cf053-1eec-4060-b8fa-3aea0d237b7f",
   "metadata": {},
   "outputs": [
    {
     "data": {
      "text/plain": [
       "Text(0.5, 1.0, 'Distribution of Product Ratings')"
      ]
     },
     "execution_count": 9,
     "metadata": {},
     "output_type": "execute_result"
    },
    {
     "data": {
      "image/png": "[encoded data removed]",
      "text/plain": [
       "<Figure size 1080x360 with 1 Axes>"
      ]
     },
     "metadata": {
      "needs_background": "light"
     },
     "output_type": "display_data"
    }
   ],
   "source": [
    "# Set the size of the figure\n",
    "plt.figure(figsize=(15, 5))\n",
    "\n",
    "# Plotting the histogram\n",
    "plt.hist(products['avg_rating'], edgecolor='black')\n",
    "\n",
    "# Adding labels and title\n",
    "plt.xlabel('Rating')\n",
    "plt.ylabel('Frequency')\n",
    "plt.title('Distribution of Product Ratings')"
   ]
  },
  {
   "cell_type": "markdown",
   "id": "272dcdae-d6a5-4ae6-a493-84f9821c69c9",
   "metadata": {},
   "source": [
    "Ratings are skewed to being more positive."
   ]
  },
  {
   "cell_type": "code",
   "execution_count": 10,
   "id": "1f5ac798-45e3-4353-9d16-782c0ec73e31",
   "metadata": {},
   "outputs": [
    {
     "data": {
      "text/plain": [
       "Text(0.5, 1.0, 'Distibution of Product Counts')"
      ]
     },
     "execution_count": 10,
     "metadata": {},
     "output_type": "execute_result"
    },
    {
     "data": {
      "image/png": "[encoded data removed]",
      "text/plain": [
       "<Figure size 1080x360 with 1 Axes>"
      ]
     },
     "metadata": {
      "needs_background": "light"
     },
     "output_type": "display_data"
    }
   ],
   "source": [
    "product_counts = product_reviews.groupby(\"product_id\")[\"author_id\"].count().fillna(0)\n",
    "\n",
    "# Set the size of the figure\n",
    "plt.figure(figsize=(15, 5))\n",
    "\n",
    "# Plotting the histogram\n",
    "plt.hist(product_counts, edgecolor='black', bins=25)\n",
    "\n",
    "# Adding labels and title\n",
    "plt.xlabel('Number of Reviews')\n",
    "plt.ylabel('Frequency')\n",
    "plt.title('Distibution of Product Counts')"
   ]
  },
  {
   "cell_type": "markdown",
   "id": "866bab6b-7d09-4ff6-827d-66989ea9096c",
   "metadata": {},
   "source": [
    "Reviews for each product seem to represent a right-skewed distribution. However there are some outliers that have 8,000+ and even 16,000+ reviews. "
   ]
  },
  {
   "cell_type": "code",
   "execution_count": 11,
   "id": "6fe82423-b11a-4494-a759-18a40f47bfbf",
   "metadata": {},
   "outputs": [
    {
     "data": {
      "text/plain": [
       "Text(0.5, 1.0, 'Histogram of Product Counts')"
      ]
     },
     "execution_count": 11,
     "metadata": {},
     "output_type": "execute_result"
    },
    {
     "data": {
      "image/png": "[encoded data removed]",
      "text/plain": [
       "<Figure size 1080x360 with 1 Axes>"
      ]
     },
     "metadata": {
      "needs_background": "light"
     },
     "output_type": "display_data"
    }
   ],
   "source": [
    "product_counts = product_reviews.groupby(\"product_id\")[\"author_id\"].count().to_dict()\n",
    "products[\"review_counts\"] = products[\"product_id\"].map(product_counts).fillna(0)\n",
    "\n",
    "# Set the size of the figure\n",
    "plt.figure(figsize=(15, 5))\n",
    "\n",
    "# Plotting the histogram\n",
    "plt.hist(products[\"review_counts\"], edgecolor='black', bins=25)\n",
    "\n",
    "# Adding labels and title\n",
    "plt.xlabel('Number of Reviews')\n",
    "plt.ylabel('Frequency')\n",
    "plt.title('Histogram of Product Counts')"
   ]
  },
  {
   "cell_type": "markdown",
   "id": "4dfd46ce-4beb-4b06-a956-52a00bdaad14",
   "metadata": {},
   "source": [
    "Vast majority of products in the dataset do not have reviews. "
   ]
  },
  {
   "cell_type": "markdown",
   "id": "f25e51af-c7ae-46dc-a89d-5159945e3543",
   "metadata": {},
   "source": [
    "## Bivariate Analysis"
   ]
  },
  {
   "cell_type": "code",
   "execution_count": 13,
   "id": "e261b9bc-38e5-469b-9775-f235ec4a6c73",
   "metadata": {},
   "outputs": [
    {
     "data": {
      "text/plain": [
       "Text(0.5, 1.0, 'Rating vs Number of Reviews')"
      ]
     },
     "execution_count": 13,
     "metadata": {},
     "output_type": "execute_result"
    },
    {
     "data": {
      "image/png": "[encoded data removed]",
      "text/plain": [
       "<Figure size 1080x360 with 1 Axes>"
      ]
     },
     "metadata": {
      "needs_background": "light"
     },
     "output_type": "display_data"
    }
   ],
   "source": [
    "# Set size\n",
    "plt.figure(figsize=(15,5))\n",
    "\n",
    "plt.scatter(data=products, x=\"review_counts\", y=\"avg_rating\")\n",
    "\n",
    "# Adding Labels\n",
    "plt.xlabel(\"Number of Reviews\")\n",
    "plt.ylabel(\"Rating\")\n",
    "plt.title(\"Rating vs Number of Reviews\")"
   ]
  },
  {
   "cell_type": "markdown",
   "id": "e45e2aa0-3eea-4e4b-847e-015fe582cf2b",
   "metadata": {},
   "source": [
    "No correlation for number of reviews and the rating of a product."
   ]
  },
  {
   "cell_type": "code",
   "execution_count": 14,
   "id": "084c868d-da80-4ab7-bae7-36d87c09599c",
   "metadata": {},
   "outputs": [],
   "source": [
    "products[\"has_reviews\"] = 0 \n",
    "products.loc[products[\"review_counts\"] > 0, \"has_reviews\"] = 1"
   ]
  },
  {
   "cell_type": "code",
   "execution_count": 16,
   "id": "d2b42cb7-d052-4205-b8e1-6c974a33de59",
   "metadata": {},
   "outputs": [
    {
     "data": {
      "text/plain": [
       "<matplotlib.legend.Legend at 0x7f1078df8a00>"
      ]
     },
     "execution_count": 16,
     "metadata": {},
     "output_type": "execute_result"
    },
    {
     "data": {
      "image/png": "[encoded data removed]",
      "text/plain": [
       "<Figure size 1080x360 with 1 Axes>"
      ]
     },
     "metadata": {
      "needs_background": "light"
     },
     "output_type": "display_data"
    }
   ],
   "source": [
    "# Size \n",
    "plt.figure(figsize=(15,5))\n",
    "# Seperating data by \"has_reviews\"\n",
    "no_reviews = products[products[\"has_reviews\"] == 0]\n",
    "has_reviews = products[products[\"has_reviews\"] == 1]\n",
    "\n",
    "# Create side-by-side histograms\n",
    "plt.hist(no_reviews['avg_rating'], color='orange', edgecolor='black', alpha=0.5, label='0 Reviews', density=True)\n",
    "plt.hist(has_reviews['avg_rating'], color='blue', edgecolor='black', alpha=0.5, label='1 or more Reviews', density=True)\n",
    "\n",
    "# Set labels and title\n",
    "plt.xlabel('Rating')\n",
    "plt.ylabel('Density')\n",
    "plt.title('Distribution of Ratings by Number of Reviews')\n",
    "plt.legend()"
   ]
  },
  {
   "cell_type": "markdown",
   "id": "b3038c2b-97e7-4a3f-af65-33520fed644e",
   "metadata": {},
   "source": [
    "Nearly identical distributions between products with 0 reviews in the dataset and products with 1 or more reviews."
   ]
  },
  {
   "cell_type": "markdown",
   "id": "41bcb8e9-6494-433b-a7b7-64b04d000aca",
   "metadata": {},
   "source": [
    "# Baseline Models"
   ]
  },
  {
   "cell_type": "markdown",
   "id": "5bb8cb51-8659-4161-a0c0-d89f5dbae682",
   "metadata": {},
   "source": [
    "## Creating Training and Testing Sets"
   ]
  },
  {
   "cell_type": "code",
   "execution_count": 7,
   "id": "02d30cd2-e4b5-44dc-a8fa-ae6691eda340",
   "metadata": {},
   "outputs": [],
   "source": [
    "# Create training and test set for reviews \n",
    "from sklearn.model_selection import train_test_split\n",
    "\n",
    "train_set, test_set = train_test_split(product_reviews, test_size=0.2, random_state=42)"
   ]
  },
  {
   "cell_type": "code",
   "execution_count": 8,
   "id": "9db9b9f6-643a-4c06-addd-70edbc5172b8",
   "metadata": {},
   "outputs": [],
   "source": [
    "# Splitting data and maintaining distribution of ratings in training and test set\n",
    "from sklearn.model_selection import StratifiedShuffleSplit\n",
    "\n",
    "split = StratifiedShuffleSplit(n_splits=1, test_size=0.2, random_state=42) \n",
    "\n",
    "for train_index, test_index in split.split(product_reviews, product_reviews[\"rating\"]):\n",
    "        strat_train_set = product_reviews.iloc[train_index]\n",
    "        strat_test_set = product_reviews.iloc[test_index]"
   ]
  },
  {
   "cell_type": "code",
   "execution_count": 19,
   "id": "139d3edc-5e01-487e-ac37-500d7be8276d",
   "metadata": {},
   "outputs": [
    {
     "data": {
      "text/plain": [
       "rating\n",
       "5.0    0.635145\n",
       "4.0    0.185056\n",
       "3.0    0.075611\n",
       "1.0    0.055881\n",
       "2.0    0.048307\n",
       "Name: count, dtype: float64"
      ]
     },
     "execution_count": 19,
     "metadata": {},
     "output_type": "execute_result"
    }
   ],
   "source": [
    "reviews.rating.value_counts() / len(reviews)"
   ]
  },
  {
   "cell_type": "code",
   "execution_count": 20,
   "id": "31c915bb-96ff-42a2-8df4-b40eabc9acdb",
   "metadata": {},
   "outputs": [
    {
     "data": {
      "text/plain": [
       "rating\n",
       "5.0    0.635144\n",
       "4.0    0.185056\n",
       "3.0    0.075611\n",
       "1.0    0.055882\n",
       "2.0    0.048307\n",
       "Name: count, dtype: float64"
      ]
     },
     "execution_count": 20,
     "metadata": {},
     "output_type": "execute_result"
    }
   ],
   "source": [
    "strat_train_set.rating.value_counts() / len(strat_train_set)"
   ]
  },
  {
   "cell_type": "markdown",
   "id": "680db053-d0e7-460b-911c-7bff35c87eb2",
   "metadata": {},
   "source": [
    "## Predict Average Rating"
   ]
  },
  {
   "cell_type": "markdown",
   "id": "b84ab892-5fce-43c2-b717-72e332cbc9b6",
   "metadata": {},
   "source": [
    "A simple model we can implement is to predict that a user will give a product its already average rating."
   ]
  },
  {
   "cell_type": "code",
   "execution_count": 23,
   "id": "83605650-9cad-487e-b5c5-170b6dd8abb8",
   "metadata": {},
   "outputs": [
    {
     "name": "stdout",
     "output_type": "stream",
     "text": [
      "4.194512889483933\n"
     ]
    }
   ],
   "source": [
    "itemAvg = products.set_index('product_id')['avg_rating'].to_dict()\n",
    "globalAvg = products['avg_rating'].mean()\n",
    "print(globalAvg)"
   ]
  },
  {
   "cell_type": "code",
   "execution_count": 24,
   "id": "6151cc82-aa74-48f5-9790-c02a3450d61c",
   "metadata": {},
   "outputs": [],
   "source": [
    "def avgRating(product_id):\n",
    "    if product_id not in itemAvg: # return globalAvg if product has not been seen before\n",
    "        return [globalAvg]\n",
    "    return [itemAvg[product_id]]"
   ]
  },
  {
   "cell_type": "code",
   "execution_count": 25,
   "id": "655e3426-1381-4345-8438-d5db1428de72",
   "metadata": {},
   "outputs": [],
   "source": [
    "# Predicting ratings\n",
    "y = np.array(strat_test_set.rating)\n",
    "y_pred = strat_test_set.product_id.apply(avgRating).to_list()"
   ]
  },
  {
   "cell_type": "code",
   "execution_count": 26,
   "id": "afb3de1c-330d-4abd-b033-ec4fd07512ad",
   "metadata": {},
   "outputs": [
    {
     "name": "stdout",
     "output_type": "stream",
     "text": [
      "MSE:1.2373088323725412\n",
      "RMSE:1.1123438462869928\n"
     ]
    }
   ],
   "source": [
    "# Model Evaluation\n",
    "from sklearn.metrics import mean_squared_error\n",
    "\n",
    "mse = mean_squared_error(y, y_pred)\n",
    "rmse = np.sqrt(mse)\n",
    "print(f'MSE:{mse}')\n",
    "print(f'RMSE:{rmse}') "
   ]
  },
  {
   "cell_type": "markdown",
   "id": "2f6f17c6-af81-4bad-a636-9434dc03366e",
   "metadata": {},
   "source": [
    "This model's predictions are off by about 1.12. Since rating go from a scale from 1 - 5 this model performs pretty bad being off by 1.12 is pretty bad."
   ]
  },
  {
   "cell_type": "markdown",
   "id": "442fb6ff-29b0-4ee6-8412-ee98104980c2",
   "metadata": {},
   "source": [
    "## User & Item Deviations Model"
   ]
  },
  {
   "cell_type": "markdown",
   "id": "75c9581c-c4a5-4b99-9f89-db8b9ca1b4c4",
   "metadata": {},
   "source": [
    "Another model we can exlore is to determine the deviations each user has in their personal ratings and the deviations each item has compared to the global averages. "
   ]
  },
  {
   "cell_type": "code",
   "execution_count": 27,
   "id": "30137f79-3a41-4697-a9fa-6810ff32ee7e",
   "metadata": {},
   "outputs": [],
   "source": [
    "# Functions for the model \n",
    "\n",
    "# Create feature vector\n",
    "def features(datum, alpha, betaU, betaI):\n",
    "    user = datum.author_id\n",
    "    item = datum.product_id\n",
    "    \n",
    "    # logic for users or items not seen in the training set\n",
    "    if user in betaU:\n",
    "        bu = betaU[user]\n",
    "    else:\n",
    "        bu = 0\n",
    "        \n",
    "    if item in betaI:\n",
    "        bi = betaI[item]\n",
    "    else:\n",
    "        bi = 0\n",
    "        \n",
    "    return [alpha, bu, bi]\n",
    "\n",
    "def predict_rating(datum):\n",
    "    a = datum[0]\n",
    "    bu = datum[1]\n",
    "    bi = datum[2]\n",
    "    return a + bu + bi"
   ]
  },
  {
   "cell_type": "code",
   "execution_count": 30,
   "id": "b3ffc2fe-c2dc-4836-a9d9-ecd835959606",
   "metadata": {},
   "outputs": [],
   "source": [
    "ratingsPerUser = strat_train_set.groupby('author_id')['rating'].count().to_dict()\n",
    "ratingsPerItem = strat_train_set.groupby('product_id')['rating'].count().to_dict()\n",
    "\n",
    "userAvg = strat_train_set.groupby('author_id')['rating'].mean().to_dict()\n",
    "itemAvg = products.set_index('product_id')['avg_rating'].to_dict()\n",
    "\n",
    "# ratingMean = sum(itemAvg.values()) / len(itemAvg)\n",
    "# ratingMean # based on avg product reviews"
   ]
  },
  {
   "cell_type": "code",
   "execution_count": 31,
   "id": "f21f1a1b",
   "metadata": {},
   "outputs": [],
   "source": [
    "# usersPerItem = defaultdict(set)\n",
    "# itemsPerUser = defaultdict(set)\n",
    "# reviewsPerUser = defaultdict(list)\n",
    "\n",
    "# for index, review in strat_train_set.iterrows():\n",
    "#     user_id = review['author_id']\n",
    "#     item_id = review['product_id']\n",
    "#     rating = float(review['rating'])\n",
    "\n",
    "#     usersPerItem[item_id].add(user_id)\n",
    "#     itemsPerUser[user_id].add(item_id)\n",
    "\n",
    "#     reviewsPerUser[user_id].append(review)\n",
    "    \n",
    "# userReviewAverages = {}\n",
    "# itemReviewAverages = {}\n",
    "\n",
    "# for u in itemsPerUser:\n",
    "#     rs = [ratingDict[(u,i)] for i in itemsPerUser[u]]\n",
    "#     userReviewAverages[u] = sum(rs) / len(rs)\n",
    "    \n",
    "# for i in usersPerItem:\n",
    "#     rs = [ratingDict[(u,i)] for u in usersPerItem[i]]\n",
    "#     itemReviewAverages[i] = sum(rs) / len(rs)\n",
    "    \n",
    "# ratingMean = sum(itemReviewAverages.values())/len(itemReviewAverages)\n",
    "# ratingMean # based on reviews"
   ]
  },
  {
   "cell_type": "code",
   "execution_count": 32,
   "id": "161d034e-a985-4b78-9c18-b15877038954",
   "metadata": {},
   "outputs": [],
   "source": [
    "MSEs = defaultdict(list)"
   ]
  },
  {
   "cell_type": "code",
   "execution_count": null,
   "id": "b6c1162f-fbdf-4a1d-8b87-231a4174e0a9",
   "metadata": {},
   "outputs": [],
   "source": [
    "# Initializing values \n",
    "\n",
    "alpha = globalAvg\n",
    "betaU = {}\n",
    "betaI = {}\n",
    "\n",
    "for u in userAvg:\n",
    "    betaU[u] = userAvg[u] - alpha\n",
    "for i in itemAvg:\n",
    "    betaI[i] = itemAvg[i] - alpha\n",
    "\n",
    "# Opitmization (Gradient Descent) \n",
    "\n",
    "lam = 0 # can change to increase/descrease error  \n",
    "\n",
    "prev_mse = 0\n",
    "iteration = 1\n",
    "\n",
    "# Training sets\n",
    "y = np.array(strat_train_set.rating)\n",
    "\n",
    "for i in range(1):\n",
    "    alphas = []\n",
    "    betaUs = defaultdict(list)\n",
    "    betaIs = defaultdict(list)\n",
    "    \n",
    "    for index, row in tqdm(strat_train_set.iterrows()):\n",
    "        user = row.author_id\n",
    "        item = row.product_id\n",
    "        rating = row.rating\n",
    "        bu = betaU[user]\n",
    "        bi = betaI[item]\n",
    "\n",
    "        alphas.append(rating - (bu + bi))\n",
    "        betaUs[user].append(rating - (alpha + bi))\n",
    "        betaIs[item].append(rating - (alpha + bu))\n",
    "    \n",
    "    alpha = sum(alphas) / len(strat_train_set)\n",
    "    \n",
    "    for u in betaUs:\n",
    "        betaU[u] = sum(betaUs[u]) / (lam + ratingsPerUser[u])\n",
    "\n",
    "    for i in betaIs:\n",
    "        betaI[i] = sum(betaIs[i]) / (lam + ratingsPerItem[i])\n",
    "\n",
    "    # Caclculate MSE \n",
    "    X = [features(row, alpha, betaU, betaI) for index,row in strat_train_set.iterrows()]\n",
    "    y_pred = [predict_rating(x) for x in X]\n",
    "    trainMse = mean_squared_error(y, y_pred)\n",
    "    \n",
    "    print(f\"Iteration {iteration}, MSE: {trainMse}, MSE Difference: {abs(prev_mse-trainMse)}\")\n",
    "    if abs(trainMse - prev_mse) < 0.1 or (prev_mse < trainMse and prev_mse != 0): break\n",
    "    \n",
    "#    MSEs[lam].append((trainMse, iteration))\n",
    "    iteration += 1\n",
    "    prev_mse = trainMse"
   ]
  },
  {
   "cell_type": "code",
   "execution_count": null,
   "id": "b71b9943-f0c8-462e-8c20-218d5a77dc78",
   "metadata": {},
   "outputs": [],
   "source": [
    "# Keeping track of beset lambdas \n",
    "MSEs = {0:(1,0.2869475500189116), 0.5:(1,0.37123573326746806),0.7:(1,0.417800212704393),\n",
    "        1.1:(1,0.5051117828232283), 1.2:(1,0.5250825093376316), 1.3:(1,0.5442690897035047),\n",
    "        1.5:(1,0.5803521882037794), 1.7:(1,0.6135531708458034)}"
   ]
  },
  {
   "cell_type": "code",
   "execution_count": null,
   "id": "0934c21d-2cc4-4cc5-88c8-a0375c5cbaba",
   "metadata": {},
   "outputs": [],
   "source": [
    "# Model Evaluation"
   ]
  },
  {
   "cell_type": "code",
   "execution_count": null,
   "id": "22646e15-2d54-4dd9-91c4-5c4aa4acd84e",
   "metadata": {},
   "outputs": [],
   "source": [
    "X_test = [features(row, alpha, betaU, betaI) for index,row in strat_test_set.iterrows()]\n",
    "y_pred = [predict_rating(x) for x in X_test]\n",
    "y = np.array(strat_test_set.rating)\n",
    "\n",
    "testMse = mean_squared_error(y, y_pred)\n",
    "testRmse = np.sqrt(testMse)\n",
    "print(f'Test MSE: {testMse}')\n",
    "print(f'Test RMSE: {testRmse}')"
   ]
  },
  {
   "cell_type": "markdown",
   "id": "bfc25dda",
   "metadata": {},
   "source": [
    "## Jaccard Similarity Model"
   ]
  },
  {
   "cell_type": "code",
   "execution_count": 41,
   "id": "f0d10c33-5672-42ff-885b-3df81570d247",
   "metadata": {},
   "outputs": [],
   "source": [
    "def MSE(predictions,y):\n",
    "    differences = [(x-y[2])**2 for x,y in zip(predictions,y)]\n",
    "    return sum(differences) / len(differences)"
   ]
  },
  {
   "cell_type": "code",
   "execution_count": 42,
   "id": "1df8c790",
   "metadata": {},
   "outputs": [],
   "source": [
    "# Data Structures for Model\n",
    "usersPerItem = defaultdict(set)\n",
    "itemsPerUser = defaultdict(set)\n",
    "reviewsPerUser = defaultdict(list)\n",
    "\n",
    "for index, review in strat_train_set.iterrows():\n",
    "    user_id = review['author_id']\n",
    "    item_id = review['product_id']\n",
    "    rating = float(review['rating'])\n",
    "\n",
    "    usersPerItem[item_id].add(user_id)\n",
    "    itemsPerUser[user_id].add(item_id)\n",
    "\n",
    "    reviewsPerUser[user_id].append(review)\n",
    "    \n",
    "y = []\n",
    "for index, row in strat_test_set.iterrows():\n",
    "    y.append((row['author_id'], row['product_id'], row['rating'] ))"
   ]
  },
  {
   "cell_type": "code",
   "execution_count": 43,
   "id": "6340a83d",
   "metadata": {},
   "outputs": [],
   "source": [
    "def Jaccard(s1, s2):\n",
    "    numer = len(s1.intersection(s2))\n",
    "    denom = len(s1.union(s2))\n",
    "    if denom > 0:\n",
    "        return numer/denom\n",
    "    return 0"
   ]
  },
  {
   "cell_type": "code",
   "execution_count": 44,
   "id": "7c1ae144",
   "metadata": {},
   "outputs": [],
   "source": [
    "def predictRating1(user,item):\n",
    "    if item not in itemAvg:\n",
    "        return ratingMean\n",
    "    ratings = [] \n",
    "    sims = []\n",
    "    for d in reviewsPerUser[user]:\n",
    "        j = d['product_id']\n",
    "        if j == item: continue  \n",
    "        ratings.append(d['rating'] - itemAvg[j])\n",
    "        sims.append(Jaccard(usersPerItem[item],usersPerItem[j]))\n",
    "    if (sum(sims) > 0):\n",
    "        weightedRatings = [(x*y) for x,y in zip(ratings,sims )]\n",
    "        return itemAvg[item] + (sum(weightedRatings) / sum(sims))\n",
    "    else:\n",
    "        return itemAvg[item] "
   ]
  },
  {
   "cell_type": "code",
   "execution_count": 45,
   "id": "e03b0154",
   "metadata": {},
   "outputs": [],
   "source": [
    "# using jaccard similarity \n",
    "predictions = []\n",
    "for (user_id,item_id,_)  in y:\n",
    "    prediction = predictRating1(user_id, item_id)\n",
    "    if (prediction > 5):\n",
    "        prediction = 5\n",
    "    predictions.append(prediction) "
   ]
  },
  {
   "cell_type": "code",
   "execution_count": 46,
   "id": "c4ca23dc",
   "metadata": {},
   "outputs": [
    {
     "name": "stdout",
     "output_type": "stream",
     "text": [
      "Jaccard Sim MSE: 1.1058926282124604\n",
      "Jaccard Sim RMSE: 1.0516142963142239\n"
     ]
    }
   ],
   "source": [
    "mse = MSE(predictions, y)\n",
    "rmse = np.sqrt(mse)\n",
    "print(f'Jaccard Sim MSE: {mse}')\n",
    "print(f'Jaccard Sim RMSE: {rmse}')"
   ]
  },
  {
   "cell_type": "markdown",
   "id": "c22c33d4",
   "metadata": {},
   "source": [
    "## Cosine Similarity Model"
   ]
  },
  {
   "cell_type": "code",
   "execution_count": 47,
   "id": "700453e0-886f-460c-b9bc-e16355ea1cb3",
   "metadata": {},
   "outputs": [],
   "source": [
    "# Data Structures \n",
    "ratingDict = {}\n",
    "for index, review in strat_train_set.iterrows():\n",
    "    user_id = review['author_id']\n",
    "    item_id = review['product_id']\n",
    "    rating = float(review['rating'])\n",
    "\n",
    "    ratingDict[(user_id, item_id)] = rating"
   ]
  },
  {
   "cell_type": "code",
   "execution_count": 48,
   "id": "9e822c17",
   "metadata": {},
   "outputs": [],
   "source": [
    "def Cosine(i1, i2):\n",
    "    # Between two items\n",
    "    inter = usersPerItem[i1].intersection(usersPerItem[i2])\n",
    "    numer = 0\n",
    "    denom1 = 0\n",
    "    denom2 = 0\n",
    "    for u in inter:\n",
    "        #print(ratingDict[(u,i1)])\n",
    "        numer += ratingDict[(u,i1)]*ratingDict[(u,i2)]\n",
    "    for u in usersPerItem[i1]:\n",
    "        denom1 += ratingDict[(u,i1)]**2\n",
    "    for u in usersPerItem[i2]:\n",
    "        denom2 += ratingDict[(u,i2)]**2\n",
    "    denom = math.sqrt(denom1) * math.sqrt(denom2)\n",
    "    if denom == 0: return 0\n",
    "    return numer / denom"
   ]
  },
  {
   "cell_type": "code",
   "execution_count": 49,
   "id": "abe01ac1",
   "metadata": {},
   "outputs": [],
   "source": [
    "def predictRating2(user,item):\n",
    "    if item not in itemAvg:\n",
    "        return ratingMean\n",
    "    ratings = [] \n",
    "    sims = []\n",
    "    for d in reviewsPerUser[user]:\n",
    "        j = d['product_id']\n",
    "        if j == item: continue  \n",
    "        ratings.append(d['rating'] - itemAvg[j])\n",
    "        sims.append(Cosine(item,j))\n",
    "    if (sum(sims) > 0):\n",
    "        weightedRatings = [(x*y) for x,y in zip(ratings,sims )]\n",
    "        return itemAvg[item] + (sum(weightedRatings) / sum(sims))\n",
    "    else:\n",
    "        return itemAvg[item] "
   ]
  },
  {
   "cell_type": "code",
   "execution_count": 50,
   "id": "aaeb151e",
   "metadata": {},
   "outputs": [
    {
     "name": "stderr",
     "output_type": "stream",
     "text": [
      "100%|██████████| 273049/273049 [36:07<00:00, 125.95it/s]\n"
     ]
    }
   ],
   "source": [
    "# using cosine similarity \n",
    "predictions = []\n",
    "for (user_id,item_id,_)  in tqdm(y):\n",
    "    prediction = predictRating2(user_id, item_id)\n",
    "    if (prediction > 5):\n",
    "        prediction = 5\n",
    "    predictions.append(prediction) "
   ]
  },
  {
   "cell_type": "code",
   "execution_count": 51,
   "id": "b46993b4",
   "metadata": {},
   "outputs": [
    {
     "name": "stdout",
     "output_type": "stream",
     "text": [
      "Cosine Sim MSE: 1.1036532245777233\n",
      "Cosine Sim RMSE: 1.0505490110307674\n"
     ]
    }
   ],
   "source": [
    "mse = MSE(predictions, y)\n",
    "rmse = np.sqrt(mse)\n",
    "print(f'Cosine Sim MSE: {mse}')\n",
    "print(f'Cosine Sim RMSE: {rmse}')"
   ]
  },
  {
   "cell_type": "markdown",
   "id": "4299ef9a",
   "metadata": {},
   "source": [
    "## Pearsons Similarity Model"
   ]
  },
  {
   "cell_type": "code",
   "execution_count": 52,
   "id": "515d51fd",
   "metadata": {},
   "outputs": [],
   "source": [
    "def Pearsons(i1,i2):\n",
    "    inter = usersPerItem[i1].intersection(usersPerItem[i2])\n",
    "    \n",
    "    ratings_s1 = [ratingDict[(u, i1)] for u in inter]\n",
    "    ratings_s2 = [ratingDict[(u, i2)] for u in inter]\n",
    "    \n",
    "    smaller_len = len(inter)\n",
    "    \n",
    "    if smaller_len == 0:\n",
    "        return 0\n",
    "\n",
    "    s1_sum = sum(ratings_s1)\n",
    "    s2_sum = sum(ratings_s2)\n",
    "\n",
    "    s1_sqsum = sum([rating ** 2 for rating in ratings_s1])\n",
    "    s2_sqsum = sum([rating ** 2 for rating in ratings_s2])\n",
    "\n",
    "    prod = sum([ratings_s1[i] * ratings_s2[i] for i in range(smaller_len)])\n",
    "\n",
    "    numer = prod - ((s1_sum * s2_sum) / smaller_len)\n",
    "    denom = ((s1_sqsum - (s1_sum ** 2) / smaller_len) * (s2_sqsum - (s2_sum ** 2) / smaller_len)) ** 0.5\n",
    "        \n",
    "    if denom == 0:\n",
    "        return 0\n",
    "    \n",
    "    if (isinstance(numer / denom, complex)):\n",
    "        return 0\n",
    "    \n",
    "    \n",
    "    return numer / denom "
   ]
  },
  {
   "cell_type": "code",
   "execution_count": 53,
   "id": "782a0691",
   "metadata": {},
   "outputs": [],
   "source": [
    "def predictRating3(user,item):\n",
    "    # if item not seen before, returning the global average\n",
    "    if item not in itemAvg:\n",
    "        return ratingMean\n",
    "    ratings = [] # ratings to average \n",
    "    sims = [] # similarity scores\n",
    "    for d in reviewsPerUser[user]:\n",
    "        j = d['product_id']\n",
    "        if j == item: continue # skipping query item  \n",
    "        ratings.append(d['rating'] - itemAvg[j])\n",
    "        sims.append(Pearsons(item,j))\n",
    "       \n",
    "\n",
    "    if (sum(sims) > 0):\n",
    "        weightedRatings = [(x*y) for x,y in zip(ratings,sims )]\n",
    "        return itemAvg[item] + (sum(weightedRatings) / sum(sims))\n",
    "    else:\n",
    "        # returning the item’s average rating if no similar items exist\n",
    "        return itemAvg[item] "
   ]
  },
  {
   "cell_type": "code",
   "execution_count": 54,
   "id": "19b7648d",
   "metadata": {},
   "outputs": [
    {
     "name": "stderr",
     "output_type": "stream",
     "text": [
      "100%|██████████| 273049/273049 [04:36<00:00, 986.43it/s] \n"
     ]
    }
   ],
   "source": [
    "predictions = []\n",
    "for (user_id,item_id,_)  in tqdm(y):\n",
    "    prediction = predictRating3(user_id, item_id)\n",
    "    if (prediction > 5):\n",
    "        prediction = 5\n",
    "    predictions.append(prediction) "
   ]
  },
  {
   "cell_type": "code",
   "execution_count": 55,
   "id": "f70d2d7d",
   "metadata": {},
   "outputs": [
    {
     "name": "stdout",
     "output_type": "stream",
     "text": [
      "Pearsons Correlation Coef MSE: 5.473511679893471e+26\n",
      "Pearsons Correlation Coef RMSE: 23395537352011.113\n"
     ]
    }
   ],
   "source": [
    "mse = MSE(predictions, y) \n",
    "rmse = np.sqrt(mse)\n",
    "print(f'Pearsons Correlation Coef MSE: {mse}')\n",
    "print(f'Pearsons Correlation Coef RMSE: {rmse}')"
   ]
  },
  {
   "cell_type": "markdown",
   "id": "ed9edbd5",
   "metadata": {},
   "source": [
    "# Matrix Factorization Model (SVD)"
   ]
  },
  {
   "cell_type": "code",
   "execution_count": 13,
   "id": "4a9d6aac-ec90-46e4-b631-a73d21141f09",
   "metadata": {},
   "outputs": [],
   "source": [
    "# Importing Packages\n",
    "from surprise import SVD , Reader , Dataset, accuracy, NormalPredictor\n",
    "from surprise.model_selection import train_test_split, KFold, cross_validate"
   ]
  },
  {
   "cell_type": "code",
   "execution_count": 14,
   "id": "b82cd217",
   "metadata": {},
   "outputs": [],
   "source": [
    "# Creating Model\n",
    "reader = Reader(rating_scale=(1, 5))\n",
    "\n",
    "data = Dataset.load_from_df(product_reviews[['author_id', 'product_id', 'rating']], reader)\n",
    "dataTrain, dataTest = train_test_split(data, test_size=.25)\n",
    "\n",
    "model = SVD()\n",
    "model.fit(dataTrain)\n",
    "predictions = model.test(dataTest)"
   ]
  },
  {
   "cell_type": "code",
   "execution_count": 15,
   "id": "f5f7895e",
   "metadata": {},
   "outputs": [
    {
     "name": "stdout",
     "output_type": "stream",
     "text": [
      "SVD MSE: 0.8171156760451659\n",
      "SVD RMSE: 0.903944509383826\n"
     ]
    }
   ],
   "source": [
    "# Model Evaluation\n",
    "sse = 0\n",
    "for p in predictions:\n",
    "    sse += (p.r_ui - p.est)**2\n",
    "MSE = sse / len(predictions)\n",
    "RMSE = np.sqrt(MSE)\n",
    "print(f'SVD MSE: {MSE}')\n",
    "print(f'SVD RMSE: {RMSE}')"
   ]
  },
  {
   "cell_type": "markdown",
   "id": "4223eac1-627f-41b7-847b-5a85bbe724d1",
   "metadata": {},
   "source": [
    "## Model Optimization (K-Fold Validation)"
   ]
  },
  {
   "cell_type": "code",
   "execution_count": 18,
   "id": "02333f6f",
   "metadata": {},
   "outputs": [
    {
     "name": "stdout",
     "output_type": "stream",
     "text": [
      "MSE: 0.7870\n",
      "RMSE: 0.8871\n",
      "MSE: 0.7920\n",
      "RMSE: 0.8899\n",
      "MSE: 0.7828\n",
      "RMSE: 0.8847\n",
      "MSE: 0.7938\n",
      "RMSE: 0.8910\n",
      "MSE: 0.7909\n",
      "RMSE: 0.8893\n"
     ]
    }
   ],
   "source": [
    "kf = KFold(n_splits=5)\n",
    "\n",
    "algo = SVD()\n",
    "\n",
    "for trainset, testset in kf.split(data):\n",
    "\n",
    "    # train and test algorithm.\n",
    "    algo.fit(trainset)\n",
    "    predictions = algo.test(testset)\n",
    "\n",
    "    accuracy.mse(predictions, verbose=True)\n",
    "    # Compute and print Root Mean Squared Error\n",
    "    accuracy.rmse(predictions, verbose=True)"
   ]
  },
  {
   "cell_type": "code",
   "execution_count": null,
   "id": "67d4dee4",
   "metadata": {},
   "outputs": [],
   "source": []
  }
 ],
 "metadata": {
  "kernelspec": {
   "display_name": "Python 3 (ipykernel)",
   "language": "python",
   "name": "python3"
  },
  "language_info": {
   "codemirror_mode": {
    "name": "ipython",
    "version": 3
   },
   "file_extension": ".py",
   "mimetype": "text/x-python",
   "name": "python",
   "nbconvert_exporter": "python",
   "pygments_lexer": "ipython3",
   "version": "3.9.5"
  }
 },
 "nbformat": 4,
 "nbformat_minor": 5
}
