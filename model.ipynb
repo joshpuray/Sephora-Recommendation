{
 "cells": [
  {
   "cell_type": "markdown",
   "id": "017568fc-293c-4c4d-91f6-534066b4fe99",
   "metadata": {},
   "source": [
    "# Task"
   ]
  },
  {
   "cell_type": "markdown",
   "id": "8a8ef0fb-4e7d-40f3-9e11-8807bdfa69f0",
   "metadata": {},
   "source": [
    "Predict the rating a user will give a product."
   ]
  },
  {
   "cell_type": "markdown",
   "id": "2ce21a02-3fa7-489f-aa34-8ec46c2e4621",
   "metadata": {},
   "source": [
    "# Importing Libraries & Data"
   ]
  },
  {
   "cell_type": "code",
   "execution_count": 1,
   "id": "68dbe09c-134f-489a-985a-f56272bff974",
   "metadata": {},
   "outputs": [
    {
     "name": "stderr",
     "output_type": "stream",
     "text": [
      "/Users/jpuray/opt/anaconda3/lib/python3.9/site-packages/pandas/core/computation/expressions.py:21: UserWarning: Pandas requires version '2.8.0' or newer of 'numexpr' (version '2.7.3' currently installed).\n",
      "  from pandas.core.computation.check import NUMEXPR_INSTALLED\n",
      "/Users/jpuray/opt/anaconda3/lib/python3.9/site-packages/pandas/core/arrays/masked.py:62: UserWarning: Pandas requires version '1.3.4' or newer of 'bottleneck' (version '1.3.2' currently installed).\n",
      "  from pandas.core import (\n",
      "/Users/jpuray/opt/anaconda3/lib/python3.9/site-packages/scipy/__init__.py:146: UserWarning: A NumPy version >=1.16.5 and <1.23.0 is required for this version of SciPy (detected version 1.26.2\n",
      "  warnings.warn(f\"A NumPy version >={np_minversion} and <{np_maxversion}\"\n"
     ]
    }
   ],
   "source": [
    "import pandas as pd\n",
    "import numpy as np\n",
    "import matplotlib.pyplot as plt \n",
    "import seaborn as sns\n",
    "from collections import defaultdict\n",
    "from tqdm import tqdm"
   ]
  },
  {
   "cell_type": "code",
   "execution_count": 2,
   "id": "f1af883b-3bd3-44bf-98e4-81209c2ded6c",
   "metadata": {},
   "outputs": [
    {
     "name": "stderr",
     "output_type": "stream",
     "text": [
      "/var/folders/_n/2lzdwcvx2n9087rmk11qlfdw0000gn/T/ipykernel_57968/2225516502.py:3: DtypeWarning: Columns (1) have mixed types. Specify dtype option on import or set low_memory=False.\n",
      "  reviews = pd.read_csv(\"data/reviews_0-250.csv\",index_col=0) # only using first 100_000 rows of reviews\n"
     ]
    }
   ],
   "source": [
    "# Importing Data\n",
    "products = pd.read_csv(\"data/product_info.csv\")\n",
    "reviews = pd.read_csv(\"data/reviews_0-250.csv\",index_col=0) # only using first 100_000 rows of reviews"
   ]
  },
  {
   "cell_type": "code",
   "execution_count": 3,
   "id": "b54bade0-8362-4f90-9c30-7d811a1787e4",
   "metadata": {},
   "outputs": [
    {
     "name": "stdout",
     "output_type": "stream",
     "text": [
      "(8494, 27)\n",
      "(602130, 18)\n"
     ]
    }
   ],
   "source": [
    "print(products.shape)\n",
    "print(reviews.shape)"
   ]
  },
  {
   "cell_type": "code",
   "execution_count": 4,
   "id": "8e9387c4-de5b-46ad-918c-abb6fc8d6d06",
   "metadata": {},
   "outputs": [
    {
     "data": {
      "text/plain": [
       "Index(['author_id', 'rating', 'is_recommended', 'helpfulness',\n",
       "       'total_feedback_count', 'total_neg_feedback_count',\n",
       "       'total_pos_feedback_count', 'submission_time', 'review_text',\n",
       "       'review_title', 'skin_tone', 'eye_color', 'skin_type', 'hair_color',\n",
       "       'product_id', 'product_name', 'brand_name', 'price_usd'],\n",
       "      dtype='object')"
      ]
     },
     "execution_count": 4,
     "metadata": {},
     "output_type": "execute_result"
    }
   ],
   "source": [
    "reviews.columns"
   ]
  },
  {
   "cell_type": "markdown",
   "id": "2ac7ce2a-1858-4ee5-b064-f1ec1a3068ca",
   "metadata": {},
   "source": [
    "# Exploratory Data Analysis"
   ]
  },
  {
   "cell_type": "code",
   "execution_count": 5,
   "id": "cabaf08a-92de-43d1-8040-dd2a279663c6",
   "metadata": {},
   "outputs": [],
   "source": [
    "# Querying for necessary columns\n",
    "products = products[['product_id','brand_id','loves_count','rating','reviews','price_usd','primary_category']]\n",
    "reviews = reviews[['author_id','product_id','rating','is_recommended','helpfulness','submission_time','review_text','review_title']]"
   ]
  },
  {
   "cell_type": "code",
   "execution_count": 6,
   "id": "0d086fc8-a406-47b5-9f97-03ff8722e504",
   "metadata": {},
   "outputs": [],
   "source": [
    "# Percentages of null data "
   ]
  },
  {
   "cell_type": "code",
   "execution_count": 7,
   "id": "bf7015d3-678e-4b91-bbbf-7e93085a51c6",
   "metadata": {},
   "outputs": [
    {
     "data": {
      "text/plain": [
       "author_id          0.000000\n",
       "product_id         0.000000\n",
       "rating             0.000000\n",
       "is_recommended     0.195117\n",
       "helpfulness        0.551097\n",
       "submission_time    0.000000\n",
       "review_text        0.001659\n",
       "review_title       0.277367\n",
       "dtype: float64"
      ]
     },
     "execution_count": 7,
     "metadata": {},
     "output_type": "execute_result"
    }
   ],
   "source": [
    "reviews.isnull().sum() / reviews.shape[0]"
   ]
  },
  {
   "cell_type": "code",
   "execution_count": 8,
   "id": "9089054c-77ff-4122-a538-0ae93e6a9f55",
   "metadata": {},
   "outputs": [
    {
     "data": {
      "text/plain": [
       "product_id          0.000000\n",
       "brand_id            0.000000\n",
       "loves_count         0.000000\n",
       "rating              0.032729\n",
       "reviews             0.032729\n",
       "price_usd           0.000000\n",
       "primary_category    0.000000\n",
       "dtype: float64"
      ]
     },
     "execution_count": 8,
     "metadata": {},
     "output_type": "execute_result"
    }
   ],
   "source": [
    "products.isnull().sum() / products.shape[0]"
   ]
  },
  {
   "cell_type": "code",
   "execution_count": 9,
   "id": "03678f58-005b-48c9-b679-b76d95bf45cf",
   "metadata": {},
   "outputs": [],
   "source": [
    "# Distributions of key features"
   ]
  },
  {
   "cell_type": "code",
   "execution_count": 10,
   "id": "7c0bad71-0f65-4cfb-b8e2-23d96d34a410",
   "metadata": {},
   "outputs": [
    {
     "data": {
      "text/plain": [
       "rating\n",
       "5.0000    256\n",
       "4.0000    174\n",
       "4.5000     82\n",
       "4.3333     68\n",
       "3.0000     66\n",
       "         ... \n",
       "4.6954      1\n",
       "4.2841      1\n",
       "4.3613      1\n",
       "4.6878      1\n",
       "4.6367      1\n",
       "Name: count, Length: 4394, dtype: int64"
      ]
     },
     "execution_count": 10,
     "metadata": {},
     "output_type": "execute_result"
    }
   ],
   "source": [
    "products['rating'].value_counts() "
   ]
  },
  {
   "cell_type": "code",
   "execution_count": 11,
   "id": "1b5cf053-1eec-4060-b8fa-3aea0d237b7f",
   "metadata": {},
   "outputs": [
    {
     "data": {
      "text/plain": [
       "Text(0.5, 1.0, 'Histogram of Ratings')"
      ]
     },
     "execution_count": 11,
     "metadata": {},
     "output_type": "execute_result"
    },
    {
     "data": {
      "image/png": "[encoded data removed]",
      "text/plain": [
       "<Figure size 432x288 with 1 Axes>"
      ]
     },
     "metadata": {
      "needs_background": "light"
     },
     "output_type": "display_data"
    }
   ],
   "source": [
    "# Plotting the histogram\n",
    "plt.hist(products['rating'], edgecolor='black')\n",
    "\n",
    "# Adding labels and title\n",
    "plt.xlabel('Rating')\n",
    "plt.ylabel('Frequency')\n",
    "plt.title('Histogram of Ratings')"
   ]
  },
  {
   "cell_type": "markdown",
   "id": "272dcdae-d6a5-4ae6-a493-84f9821c69c9",
   "metadata": {},
   "source": [
    "Ratings are skewed to being more positive"
   ]
  },
  {
   "cell_type": "markdown",
   "id": "41bcb8e9-6494-433b-a7b7-64b04d000aca",
   "metadata": {},
   "source": [
    "# Baseline Models"
   ]
  },
  {
   "cell_type": "markdown",
   "id": "b84ab892-5fce-43c2-b717-72e332cbc9b6",
   "metadata": {},
   "source": [
    "A simple model we can implement is to predict that a user will give a product its already average rating."
   ]
  },
  {
   "cell_type": "code",
   "execution_count": 12,
   "id": "83605650-9cad-487e-b5c5-170b6dd8abb8",
   "metadata": {},
   "outputs": [],
   "source": [
    "itemAvg = products.set_index('product_id')['rating'].to_dict()\n",
    "globalAvg = products['rating'].mean()"
   ]
  },
  {
   "cell_type": "code",
   "execution_count": 13,
   "id": "6151cc82-aa74-48f5-9790-c02a3450d61c",
   "metadata": {},
   "outputs": [],
   "source": [
    "def avgRating(product_id):\n",
    "    if product_id not in itemAvg: # return globalAvg if product has not been seen before\n",
    "        return [globalAvg]\n",
    "    return [itemAvg[product_id]]"
   ]
  },
  {
   "cell_type": "code",
   "execution_count": 14,
   "id": "655e3426-1381-4345-8438-d5db1428de72",
   "metadata": {},
   "outputs": [],
   "source": [
    "# Predicting ratings\n",
    "y = np.array(reviews.rating)\n",
    "y_pred = reviews.product_id.apply(avgRating).to_list()"
   ]
  },
  {
   "cell_type": "code",
   "execution_count": 15,
   "id": "06483fb1-8107-4983-aec3-e37b59f43c77",
   "metadata": {},
   "outputs": [
    {
     "name": "stdout",
     "output_type": "stream",
     "text": [
      "MSE:1.258782907660306\n",
      "RMSE:1.121954949033296\n"
     ]
    }
   ],
   "source": [
    "# Model Evaluation\n",
    "from sklearn.metrics import mean_squared_error\n",
    "\n",
    "mse = mean_squared_error(y, y_pred)\n",
    "rmse = np.sqrt(mse)\n",
    "print(f'MSE:{mse}')\n",
    "print(f'RMSE:{rmse}') "
   ]
  },
  {
   "cell_type": "markdown",
   "id": "2f6f17c6-af81-4bad-a636-9434dc03366e",
   "metadata": {},
   "source": [
    "This model's predictions are off by about 1.12. Since rating go from a scale from 1 - 5 this model performs pretty bad being off by 1.12 is pretty bad."
   ]
  },
  {
   "cell_type": "markdown",
   "id": "75c9581c-c4a5-4b99-9f89-db8b9ca1b4c4",
   "metadata": {},
   "source": [
    "Another model we can exlore is to determine the deviations each user has in their personal ratings and the deviations each item has compared to the global averages. "
   ]
  },
  {
   "cell_type": "code",
   "execution_count": 16,
   "id": "02d75c14-58e7-4521-8f91-a0130c32737e",
   "metadata": {},
   "outputs": [],
   "source": [
    "# Create training and test set for reviews \n",
    "from sklearn.model_selection import train_test_split\n",
    "\n",
    "train_set, test_set = train_test_split(reviews, test_size=0.2, random_state=42)"
   ]
  },
  {
   "cell_type": "code",
   "execution_count": 17,
   "id": "fa237d99-8b01-4a57-983b-071c83cf17c7",
   "metadata": {},
   "outputs": [],
   "source": [
    "# Splitting data and maintaining distribution of ratings in training and test set\n",
    "from sklearn.model_selection import StratifiedShuffleSplit\n",
    "\n",
    "split = StratifiedShuffleSplit(n_splits=1, test_size=0.2, random_state=42) \n",
    "\n",
    "for train_index, test_index in split.split(reviews, reviews[\"rating\"]):\n",
    "        strat_train_set = reviews.loc[train_index]\n",
    "        strat_test_set = reviews.loc[test_index]"
   ]
  },
  {
   "cell_type": "code",
   "execution_count": 18,
   "id": "75f1ef43-9f25-465a-8692-d65cd006bf76",
   "metadata": {},
   "outputs": [
    {
     "data": {
      "text/plain": [
       "rating\n",
       "5    0.646040\n",
       "4    0.177629\n",
       "3    0.073104\n",
       "1    0.054644\n",
       "2    0.048583\n",
       "Name: count, dtype: float64"
      ]
     },
     "execution_count": 18,
     "metadata": {},
     "output_type": "execute_result"
    }
   ],
   "source": [
    "reviews.rating.value_counts() / len(reviews)"
   ]
  },
  {
   "cell_type": "code",
   "execution_count": 19,
   "id": "4dd3cab6-27af-4525-9ca0-c201f0b6d96a",
   "metadata": {},
   "outputs": [
    {
     "data": {
      "text/plain": [
       "rating\n",
       "5    0.646040\n",
       "4    0.177630\n",
       "3    0.073103\n",
       "1    0.054646\n",
       "2    0.048582\n",
       "Name: count, dtype: float64"
      ]
     },
     "execution_count": 19,
     "metadata": {},
     "output_type": "execute_result"
    }
   ],
   "source": [
    "strat_train_set.rating.value_counts() / len(strat_train_set)"
   ]
  },
  {
   "cell_type": "code",
   "execution_count": 20,
   "id": "7628ad96-fab7-44fe-8111-06920fbfaa1c",
   "metadata": {},
   "outputs": [],
   "source": [
    "# Creating Model"
   ]
  },
  {
   "cell_type": "code",
   "execution_count": 21,
   "id": "30137f79-3a41-4697-a9fa-6810ff32ee7e",
   "metadata": {},
   "outputs": [],
   "source": [
    "# Functions for the model \n",
    "\n",
    "# Create feature vector\n",
    "def features(datum, alpha, betaU, betaI):\n",
    "    user = datum.author_id\n",
    "    item = datum.product_id\n",
    "    \n",
    "    # logic for users or items not seen in the training set\n",
    "    if user in betaU:\n",
    "        bu = betaU[user]\n",
    "    else:\n",
    "        bu = 0\n",
    "        \n",
    "    if item in betaI:\n",
    "        bi = betaI[item]\n",
    "    else:\n",
    "        bi = 0\n",
    "        \n",
    "    return [alpha, bu, bi]\n",
    "\n",
    "def predict_rating(datum):\n",
    "    a = datum[0]\n",
    "    bu = datum[1]\n",
    "    bi = datum[2]\n",
    "    return a + bu + bi"
   ]
  },
  {
   "cell_type": "code",
   "execution_count": 22,
   "id": "b3ffc2fe-c2dc-4836-a9d9-ecd835959606",
   "metadata": {},
   "outputs": [],
   "source": [
    "ratingsPerUser = strat_train_set.groupby('author_id')['rating'].count().to_dict()\n",
    "ratingsPerItem = strat_train_set.groupby('product_id')['rating'].count().to_dict()\n",
    "\n",
    "userAvg = strat_train_set.groupby('author_id')['rating'].mean().to_dict()\n",
    "itemAvg = products.set_index('product_id')['rating'].to_dict()\n",
    "#itemAvg = strat_train_set.groupby('product_id')['rating'].mean().to_dict()"
   ]
  },
  {
   "cell_type": "code",
   "execution_count": 23,
   "id": "161d034e-a985-4b78-9c18-b15877038954",
   "metadata": {},
   "outputs": [],
   "source": [
    "MSEs = defaultdict(list)"
   ]
  },
  {
   "cell_type": "code",
   "execution_count": 24,
   "id": "b6c1162f-fbdf-4a1d-8b87-231a4174e0a9",
   "metadata": {},
   "outputs": [
    {
     "name": "stderr",
     "output_type": "stream",
     "text": [
      "481704it [00:19, 25056.40it/s]\n"
     ]
    },
    {
     "name": "stdout",
     "output_type": "stream",
     "text": [
      "Iteration 1, MSE: 0.2869475500189116, MSE Difference: 0.2869475500189116\n"
     ]
    }
   ],
   "source": [
    "# Initializing values \n",
    "\n",
    "alpha = globalAvg\n",
    "betaU = {}\n",
    "betaI = {}\n",
    "\n",
    "for u in userAvg:\n",
    "    betaU[u] = userAvg[u] - alpha\n",
    "for i in itemAvg:\n",
    "    betaI[i] = itemAvg[i] - alpha\n",
    "\n",
    "# Opitmization (Gradient Descent) \n",
    "\n",
    "lam = 0 # can change to increase/descrease error  \n",
    "\n",
    "prev_mse = 0\n",
    "iteration = 1\n",
    "\n",
    "# Training sets\n",
    "y = np.array(strat_train_set.rating)\n",
    "\n",
    "for i in range(1):\n",
    "    alphas = []\n",
    "    betaUs = defaultdict(list)\n",
    "    betaIs = defaultdict(list)\n",
    "    \n",
    "    for index, row in tqdm(strat_train_set.iterrows()):\n",
    "        user = row.author_id\n",
    "        item = row.product_id\n",
    "        rating = row.rating\n",
    "        bu = betaU[user]\n",
    "        bi = betaI[item]\n",
    "\n",
    "        alphas.append(rating - (bu + bi))\n",
    "        betaUs[user].append(rating - (alpha + bi))\n",
    "        betaIs[item].append(rating - (alpha + bu))\n",
    "    \n",
    "    alpha = sum(alphas) / len(strat_train_set)\n",
    "    \n",
    "    for u in betaUs:\n",
    "        betaU[u] = sum(betaUs[u]) / (lam + ratingsPerUser[u])\n",
    "\n",
    "    for i in betaIs:\n",
    "        betaI[i] = sum(betaIs[i]) / (lam + ratingsPerItem[i])\n",
    "\n",
    "    # Caclculate MSE \n",
    "    X = [features(row, alpha, betaU, betaI) for index,row in strat_train_set.iterrows()]\n",
    "    y_pred = [predict_rating(x) for x in X]\n",
    "    trainMse = mean_squared_error(y, y_pred)\n",
    "    \n",
    "    print(f\"Iteration {iteration}, MSE: {trainMse}, MSE Difference: {abs(prev_mse-trainMse)}\")\n",
    "    if abs(trainMse - prev_mse) < 0.1 or (prev_mse < trainMse and prev_mse != 0): break\n",
    "    \n",
    "#    MSEs[lam].append((trainMse, iteration))\n",
    "    iteration += 1\n",
    "    prev_mse = trainMse"
   ]
  },
  {
   "cell_type": "code",
   "execution_count": 25,
   "id": "b71b9943-f0c8-462e-8c20-218d5a77dc78",
   "metadata": {},
   "outputs": [],
   "source": [
    "# Keeping track of beset lambdas \n",
    "MSEs = {0:(1,0.2869475500189116), 0.5:(1,0.37123573326746806),0.7:(1,0.417800212704393),\n",
    "        1.1:(1,0.5051117828232283), 1.2:(1,0.5250825093376316), 1.3:(1,0.5442690897035047),\n",
    "        1.5:(1,0.5803521882037794), 1.7:(1,0.6135531708458034)}"
   ]
  },
  {
   "cell_type": "code",
   "execution_count": 26,
   "id": "0934c21d-2cc4-4cc5-88c8-a0375c5cbaba",
   "metadata": {},
   "outputs": [],
   "source": [
    "# Model Evaluation"
   ]
  },
  {
   "cell_type": "code",
   "execution_count": 27,
   "id": "22646e15-2d54-4dd9-91c4-5c4aa4acd84e",
   "metadata": {},
   "outputs": [
    {
     "name": "stdout",
     "output_type": "stream",
     "text": [
      "Test MSE: 1.2062849300869145\n",
      "Test RMSE: 1.0983100336821632\n"
     ]
    }
   ],
   "source": [
    "X_test = [features(row, alpha, betaU, betaI) for index,row in strat_test_set.iterrows()]\n",
    "y_pred = [predict_rating(x) for x in X_test]\n",
    "y = np.array(strat_test_set.rating)\n",
    "\n",
    "testMse = mean_squared_error(y, y_pred)\n",
    "testRmse = np.sqrt(testMse)\n",
    "print(f'Test MSE: {testMse}')\n",
    "print(f'Test RMSE: {testRmse}')"
   ]
  },
  {
   "cell_type": "code",
   "execution_count": null,
   "id": "f231973f-d333-46c7-821e-df4a4ab920ef",
   "metadata": {},
   "outputs": [],
   "source": []
  }
 ],
 "metadata": {
  "kernelspec": {
   "display_name": "Python 3 (ipykernel)",
   "language": "python",
   "name": "python3"
  },
  "language_info": {
   "codemirror_mode": {
    "name": "ipython",
    "version": 3
   },
   "file_extension": ".py",
   "mimetype": "text/x-python",
   "name": "python",
   "nbconvert_exporter": "python",
   "pygments_lexer": "ipython3",
   "version": "3.9.7"
  }
 },
 "nbformat": 4,
 "nbformat_minor": 5
}
